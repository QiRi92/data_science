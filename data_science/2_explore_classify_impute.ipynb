{
 "cells": [
  {
   "cell_type": "code",
   "execution_count": 1,
   "id": "b50a4161-71f4-41cc-9fd2-9b988d2e0a8a",
   "metadata": {
    "scrolled": true
   },
   "outputs": [
    {
     "name": "stdout",
     "output_type": "stream",
     "text": [
      "PID                int64\n",
      "GrLivArea          int64\n",
      "SalePrice          int64\n",
      "MSSubClass         int64\n",
      "MSZoning          object\n",
      "                  ...   \n",
      "SaleCondition     object\n",
      "GeoRefNo         float64\n",
      "Prop_Addr         object\n",
      "Latitude         float64\n",
      "Longitude        float64\n",
      "Length: 85, dtype: object\n",
      "object     44\n",
      "int64      27\n",
      "float64    14\n",
      "Name: count, dtype: int64\n"
     ]
    }
   ],
   "source": [
    "# Load and obtain the data types from the Ames dataset\n",
    "import pandas as pd\n",
    "Ames = pd.read_csv('Ames.csv')\n",
    "\n",
    "print(Ames.dtypes)\n",
    "print(Ames.dtypes.value_counts())"
   ]
  },
  {
   "cell_type": "code",
   "execution_count": 2,
   "id": "3bf2f82d-74f8-46c9-bd7b-4e045e687065",
   "metadata": {},
   "outputs": [
    {
     "name": "stdout",
     "output_type": "stream",
     "text": [
      "Numerical Features: Index(['PID', 'GrLivArea', 'SalePrice', 'MSSubClass', 'LotFrontage', 'LotArea',\n",
      "       'OverallQual', 'OverallCond', 'YearBuilt', 'YearRemodAdd', 'MasVnrArea',\n",
      "       'BsmtFinSF1', 'BsmtFinSF2', 'BsmtUnfSF', 'TotalBsmtSF', '1stFlrSF',\n",
      "       '2ndFlrSF', 'LowQualFinSF', 'BsmtFullBath', 'BsmtHalfBath', 'FullBath',\n",
      "       'HalfBath', 'BedroomAbvGr', 'KitchenAbvGr', 'TotRmsAbvGrd',\n",
      "       'Fireplaces', 'GarageYrBlt', 'GarageCars', 'GarageArea', 'WoodDeckSF',\n",
      "       'OpenPorchSF', 'EnclosedPorch', '3SsnPorch', 'ScreenPorch', 'PoolArea',\n",
      "       'MiscVal', 'MoSold', 'YrSold', 'GeoRefNo', 'Latitude', 'Longitude'],\n",
      "      dtype='object')\n",
      "Categorical Features: Index(['MSZoning', 'Street', 'Alley', 'LotShape', 'LandContour', 'Utilities',\n",
      "       'LotConfig', 'LandSlope', 'Neighborhood', 'Condition1', 'Condition2',\n",
      "       'BldgType', 'HouseStyle', 'RoofStyle', 'RoofMatl', 'Exterior1st',\n",
      "       'Exterior2nd', 'MasVnrType', 'ExterQual', 'ExterCond', 'Foundation',\n",
      "       'BsmtQual', 'BsmtCond', 'BsmtExposure', 'BsmtFinType1', 'BsmtFinType2',\n",
      "       'Heating', 'HeatingQC', 'CentralAir', 'Electrical', 'KitchenQual',\n",
      "       'Functional', 'FireplaceQu', 'GarageType', 'GarageFinish', 'GarageQual',\n",
      "       'GarageCond', 'PavedDrive', 'PoolQC', 'Fence', 'MiscFeature',\n",
      "       'SaleType', 'SaleCondition', 'Prop_Addr'],\n",
      "      dtype='object')\n"
     ]
    }
   ],
   "source": [
    "# Build on the above block of code\n",
    "# Separating numerical and categorical features\n",
    "numerical_features = Ames.select_dtypes(include=['int64', 'float64']).columns\n",
    "categorical_features = Ames.select_dtypes(include=['object']).columns\n",
    "\n",
    "# Displaying the separated lists\n",
    "print(\"Numerical Features:\", numerical_features)\n",
    "print(\"Categorical Features:\", categorical_features)"
   ]
  },
  {
   "cell_type": "code",
   "execution_count": 3,
   "id": "c578cfca-cf13-42cc-9b39-c3b9c816ebab",
   "metadata": {},
   "outputs": [
    {
     "name": "stdout",
     "output_type": "stream",
     "text": [
      "object     47\n",
      "int64      24\n",
      "float64    14\n",
      "Name: count, dtype: int64\n"
     ]
    }
   ],
   "source": [
    "# Building on the above 2 blocks of code\n",
    "Ames['MSSubClass'] = Ames['MSSubClass'].astype('object')\n",
    "Ames['YrSold'] = Ames['YrSold'].astype('object')\n",
    "Ames['MoSold'] = Ames['MoSold'].astype('object')\n",
    "print(Ames.dtypes.value_counts())"
   ]
  },
  {
   "cell_type": "code",
   "execution_count": 4,
   "id": "8a90b0d3-7122-48eb-bf2a-1e8c0dcb1ff1",
   "metadata": {},
   "outputs": [
    {
     "name": "stdout",
     "output_type": "stream",
     "text": [
      "              Missing Values  Percentage Data Type\n",
      "PoolQC                  2570   99.651028    object\n",
      "MiscFeature             2482   96.238852    object\n",
      "Alley                   2411   93.485847    object\n",
      "Fence                   2054   79.643273    object\n",
      "MasVnrType              1572   60.953858    object\n",
      "FireplaceQu             1241   48.119426    object\n",
      "GarageCond               129    5.001939    object\n",
      "GarageFinish             129    5.001939    object\n",
      "GarageQual               129    5.001939    object\n",
      "GarageType               127    4.924389    object\n",
      "BsmtExposure              71    2.753005    object\n",
      "BsmtFinType2              70    2.714230    object\n",
      "BsmtFinType1              69    2.675456    object\n",
      "BsmtQual                  69    2.675456    object\n",
      "BsmtCond                  69    2.675456    object\n",
      "Prop_Addr                 20    0.775494    object\n",
      "Electrical                 1    0.038775    object\n"
     ]
    }
   ],
   "source": [
    "# Calculating the percentage of missing values for each column\n",
    "missing_data = Ames.isnull().sum()\n",
    "missing_percentage = (missing_data / len(Ames)) * 100\n",
    "data_type = Ames.dtypes\n",
    "\n",
    "# Combining the counts and percentages into a DataFrame for better visualization\n",
    "missing_info = pd.DataFrame({'Missing Values': missing_data, 'Percentage': missing_percentage,\n",
    "                             'Data Type':data_type})\n",
    "\n",
    "# Sorting the DataFrame by the percentage of missing values in descending order\n",
    "missing_info = missing_info.sort_values(by='Percentage', ascending=False)\n",
    "\n",
    "# Display columns with missing values of 'object' data type\n",
    "print(missing_info[(missing_info['Missing Values'] > 0) & (missing_info['Data Type'] == 'object')])"
   ]
  },
  {
   "cell_type": "code",
   "execution_count": 5,
   "id": "0d17ce53-9b8f-42f2-92a9-ca00163c9616",
   "metadata": {},
   "outputs": [
    {
     "name": "stdout",
     "output_type": "stream",
     "text": [
      "PoolQC          0\n",
      "MiscFeature     0\n",
      "Alley           0\n",
      "Fence           0\n",
      "MasVnrType      0\n",
      "FireplaceQu     0\n",
      "GarageCond      0\n",
      "GarageFinish    0\n",
      "GarageQual      0\n",
      "GarageType      0\n",
      "BsmtExposure    0\n",
      "BsmtFinType2    0\n",
      "BsmtFinType1    0\n",
      "BsmtQual        0\n",
      "BsmtCond        0\n",
      "Prop_Addr       0\n",
      "Electrical      0\n",
      "dtype: int64\n"
     ]
    },
    {
     "name": "stderr",
     "output_type": "stream",
     "text": [
      "C:\\Users\\Asus\\AppData\\Local\\Temp\\ipykernel_13452\\167860050.py:5: FutureWarning: A value is trying to be set on a copy of a DataFrame or Series through chained assignment using an inplace method.\n",
      "The behavior will change in pandas 3.0. This inplace method will never work because the intermediate object on which we are setting values always behaves as a copy.\n",
      "\n",
      "For example, when doing 'df[col].method(value, inplace=True)', try using 'df.method({col: value}, inplace=True)' or df[col] = df[col].method(value) instead, to perform the operation inplace on the original object.\n",
      "\n",
      "\n",
      "  Ames['Electrical'].fillna(mode_value, inplace=True)\n",
      "C:\\Users\\Asus\\AppData\\Local\\Temp\\ipykernel_13452\\167860050.py:11: FutureWarning: A value is trying to be set on a copy of a DataFrame or Series through chained assignment using an inplace method.\n",
      "The behavior will change in pandas 3.0. This inplace method will never work because the intermediate object on which we are setting values always behaves as a copy.\n",
      "\n",
      "For example, when doing 'df[col].method(value, inplace=True)', try using 'df.method({col: value}, inplace=True)' or df[col] = df[col].method(value) instead, to perform the operation inplace on the original object.\n",
      "\n",
      "\n",
      "  Ames[item].fillna(\"None\", inplace=True)\n"
     ]
    }
   ],
   "source": [
    "# Building on the above block of code\n",
    "# Imputing Missing Categorical Data\n",
    "\n",
    "mode_value = Ames['Electrical'].mode()[0]\n",
    "Ames['Electrical'].fillna(mode_value, inplace=True)\n",
    "\n",
    "missing_categorical = missing_info[(missing_info['Missing Values'] > 0)\n",
    "                           & (missing_info['Data Type'] == 'object')]\n",
    "\n",
    "for item in missing_categorical.index.tolist():\n",
    "    Ames[item].fillna(\"None\", inplace=True)\n",
    "\n",
    "print(Ames[missing_categorical.index].isnull().sum())"
   ]
  },
  {
   "cell_type": "code",
   "execution_count": 6,
   "id": "4ade7ac3-8122-4902-9ef9-c64156d888fc",
   "metadata": {},
   "outputs": [
    {
     "name": "stdout",
     "output_type": "stream",
     "text": [
      "              Missing Values  Percentage Data Type\n",
      "LotFrontage              462   17.913920   float64\n",
      "GarageYrBlt              129    5.001939   float64\n",
      "Longitude                 97    3.761148   float64\n",
      "Latitude                  97    3.761148   float64\n",
      "GeoRefNo                  20    0.775494   float64\n",
      "MasVnrArea                14    0.542846   float64\n",
      "BsmtFullBath               2    0.077549   float64\n",
      "BsmtHalfBath               2    0.077549   float64\n",
      "BsmtFinSF2                 1    0.038775   float64\n",
      "GarageArea                 1    0.038775   float64\n",
      "BsmtFinSF1                 1    0.038775   float64\n",
      "BsmtUnfSF                  1    0.038775   float64\n",
      "TotalBsmtSF                1    0.038775   float64\n",
      "GarageCars                 1    0.038775   float64\n"
     ]
    }
   ],
   "source": [
    "# Build on the above blocks of code\n",
    "# Import Numpy\n",
    "import numpy as np\n",
    "\n",
    "# Calculating the percentage of missing values for each column\n",
    "missing_data = Ames.isnull().sum()\n",
    "missing_percentage = (missing_data / len(Ames)) * 100\n",
    "data_type = Ames.dtypes\n",
    "\n",
    "# Combining the counts and percentages into a DataFrame for better visualization\n",
    "missing_info = pd.DataFrame({'Missing Values': missing_data, 'Percentage': missing_percentage,\n",
    "                             'Data Type':data_type})\n",
    "\n",
    "# Sorting the DataFrame by the percentage of missing values in descending order\n",
    "missing_info = missing_info.sort_values(by='Percentage', ascending=False)\n",
    "\n",
    "# Display columns with missing values of numeric data type\n",
    "print(missing_info[(missing_info['Missing Values'] > 0)\n",
    "                   & (missing_info['Data Type'] == np.number)])"
   ]
  },
  {
   "cell_type": "code",
   "execution_count": 7,
   "id": "c67386e2-c350-4f5e-bec8-7f59456fb50f",
   "metadata": {},
   "outputs": [
    {
     "name": "stdout",
     "output_type": "stream",
     "text": [
      "         Feature Missing Values After Imputation Mean Value Used to Impute\n",
      "0    LotFrontage                               0                 68.510628\n",
      "1    GarageYrBlt                               0               1976.997143\n",
      "2      Longitude                               0                -93.642535\n",
      "3       Latitude                               0                 42.034556\n",
      "4       GeoRefNo                               0          713676171.462681\n",
      "5     MasVnrArea                               0                 99.346979\n",
      "6   BsmtFullBath                               0                   0.43539\n",
      "7   BsmtHalfBath                               0                  0.062088\n",
      "8     BsmtFinSF2                               0                 53.259503\n",
      "9     GarageArea                               0                466.864624\n",
      "10    BsmtFinSF1                               0                444.285105\n",
      "11     BsmtUnfSF                               0                539.194725\n",
      "12   TotalBsmtSF                               0               1036.739333\n",
      "13    GarageCars                               0                  1.747867\n"
     ]
    },
    {
     "name": "stderr",
     "output_type": "stream",
     "text": [
      "C:\\Users\\Asus\\AppData\\Local\\Temp\\ipykernel_13452\\3094688501.py:12: FutureWarning: A value is trying to be set on a copy of a DataFrame or Series through chained assignment using an inplace method.\n",
      "The behavior will change in pandas 3.0. This inplace method will never work because the intermediate object on which we are setting values always behaves as a copy.\n",
      "\n",
      "For example, when doing 'df[col].method(value, inplace=True)', try using 'df.method({col: value}, inplace=True)' or df[col] = df[col].method(value) instead, to perform the operation inplace on the original object.\n",
      "\n",
      "\n",
      "  Ames[item].fillna(mean_value, inplace=True)\n",
      "C:\\Users\\Asus\\AppData\\Local\\Temp\\ipykernel_13452\\3094688501.py:12: FutureWarning: A value is trying to be set on a copy of a DataFrame or Series through chained assignment using an inplace method.\n",
      "The behavior will change in pandas 3.0. This inplace method will never work because the intermediate object on which we are setting values always behaves as a copy.\n",
      "\n",
      "For example, when doing 'df[col].method(value, inplace=True)', try using 'df.method({col: value}, inplace=True)' or df[col] = df[col].method(value) instead, to perform the operation inplace on the original object.\n",
      "\n",
      "\n",
      "  Ames[item].fillna(mean_value, inplace=True)\n",
      "C:\\Users\\Asus\\AppData\\Local\\Temp\\ipykernel_13452\\3094688501.py:12: FutureWarning: A value is trying to be set on a copy of a DataFrame or Series through chained assignment using an inplace method.\n",
      "The behavior will change in pandas 3.0. This inplace method will never work because the intermediate object on which we are setting values always behaves as a copy.\n",
      "\n",
      "For example, when doing 'df[col].method(value, inplace=True)', try using 'df.method({col: value}, inplace=True)' or df[col] = df[col].method(value) instead, to perform the operation inplace on the original object.\n",
      "\n",
      "\n",
      "  Ames[item].fillna(mean_value, inplace=True)\n",
      "C:\\Users\\Asus\\AppData\\Local\\Temp\\ipykernel_13452\\3094688501.py:12: FutureWarning: A value is trying to be set on a copy of a DataFrame or Series through chained assignment using an inplace method.\n",
      "The behavior will change in pandas 3.0. This inplace method will never work because the intermediate object on which we are setting values always behaves as a copy.\n",
      "\n",
      "For example, when doing 'df[col].method(value, inplace=True)', try using 'df.method({col: value}, inplace=True)' or df[col] = df[col].method(value) instead, to perform the operation inplace on the original object.\n",
      "\n",
      "\n",
      "  Ames[item].fillna(mean_value, inplace=True)\n",
      "C:\\Users\\Asus\\AppData\\Local\\Temp\\ipykernel_13452\\3094688501.py:12: FutureWarning: A value is trying to be set on a copy of a DataFrame or Series through chained assignment using an inplace method.\n",
      "The behavior will change in pandas 3.0. This inplace method will never work because the intermediate object on which we are setting values always behaves as a copy.\n",
      "\n",
      "For example, when doing 'df[col].method(value, inplace=True)', try using 'df.method({col: value}, inplace=True)' or df[col] = df[col].method(value) instead, to perform the operation inplace on the original object.\n",
      "\n",
      "\n",
      "  Ames[item].fillna(mean_value, inplace=True)\n",
      "C:\\Users\\Asus\\AppData\\Local\\Temp\\ipykernel_13452\\3094688501.py:12: FutureWarning: A value is trying to be set on a copy of a DataFrame or Series through chained assignment using an inplace method.\n",
      "The behavior will change in pandas 3.0. This inplace method will never work because the intermediate object on which we are setting values always behaves as a copy.\n",
      "\n",
      "For example, when doing 'df[col].method(value, inplace=True)', try using 'df.method({col: value}, inplace=True)' or df[col] = df[col].method(value) instead, to perform the operation inplace on the original object.\n",
      "\n",
      "\n",
      "  Ames[item].fillna(mean_value, inplace=True)\n",
      "C:\\Users\\Asus\\AppData\\Local\\Temp\\ipykernel_13452\\3094688501.py:12: FutureWarning: A value is trying to be set on a copy of a DataFrame or Series through chained assignment using an inplace method.\n",
      "The behavior will change in pandas 3.0. This inplace method will never work because the intermediate object on which we are setting values always behaves as a copy.\n",
      "\n",
      "For example, when doing 'df[col].method(value, inplace=True)', try using 'df.method({col: value}, inplace=True)' or df[col] = df[col].method(value) instead, to perform the operation inplace on the original object.\n",
      "\n",
      "\n",
      "  Ames[item].fillna(mean_value, inplace=True)\n",
      "C:\\Users\\Asus\\AppData\\Local\\Temp\\ipykernel_13452\\3094688501.py:12: FutureWarning: A value is trying to be set on a copy of a DataFrame or Series through chained assignment using an inplace method.\n",
      "The behavior will change in pandas 3.0. This inplace method will never work because the intermediate object on which we are setting values always behaves as a copy.\n",
      "\n",
      "For example, when doing 'df[col].method(value, inplace=True)', try using 'df.method({col: value}, inplace=True)' or df[col] = df[col].method(value) instead, to perform the operation inplace on the original object.\n",
      "\n",
      "\n",
      "  Ames[item].fillna(mean_value, inplace=True)\n",
      "C:\\Users\\Asus\\AppData\\Local\\Temp\\ipykernel_13452\\3094688501.py:12: FutureWarning: A value is trying to be set on a copy of a DataFrame or Series through chained assignment using an inplace method.\n",
      "The behavior will change in pandas 3.0. This inplace method will never work because the intermediate object on which we are setting values always behaves as a copy.\n",
      "\n",
      "For example, when doing 'df[col].method(value, inplace=True)', try using 'df.method({col: value}, inplace=True)' or df[col] = df[col].method(value) instead, to perform the operation inplace on the original object.\n",
      "\n",
      "\n",
      "  Ames[item].fillna(mean_value, inplace=True)\n",
      "C:\\Users\\Asus\\AppData\\Local\\Temp\\ipykernel_13452\\3094688501.py:12: FutureWarning: A value is trying to be set on a copy of a DataFrame or Series through chained assignment using an inplace method.\n",
      "The behavior will change in pandas 3.0. This inplace method will never work because the intermediate object on which we are setting values always behaves as a copy.\n",
      "\n",
      "For example, when doing 'df[col].method(value, inplace=True)', try using 'df.method({col: value}, inplace=True)' or df[col] = df[col].method(value) instead, to perform the operation inplace on the original object.\n",
      "\n",
      "\n",
      "  Ames[item].fillna(mean_value, inplace=True)\n",
      "C:\\Users\\Asus\\AppData\\Local\\Temp\\ipykernel_13452\\3094688501.py:12: FutureWarning: A value is trying to be set on a copy of a DataFrame or Series through chained assignment using an inplace method.\n",
      "The behavior will change in pandas 3.0. This inplace method will never work because the intermediate object on which we are setting values always behaves as a copy.\n",
      "\n",
      "For example, when doing 'df[col].method(value, inplace=True)', try using 'df.method({col: value}, inplace=True)' or df[col] = df[col].method(value) instead, to perform the operation inplace on the original object.\n",
      "\n",
      "\n",
      "  Ames[item].fillna(mean_value, inplace=True)\n",
      "C:\\Users\\Asus\\AppData\\Local\\Temp\\ipykernel_13452\\3094688501.py:12: FutureWarning: A value is trying to be set on a copy of a DataFrame or Series through chained assignment using an inplace method.\n",
      "The behavior will change in pandas 3.0. This inplace method will never work because the intermediate object on which we are setting values always behaves as a copy.\n",
      "\n",
      "For example, when doing 'df[col].method(value, inplace=True)', try using 'df.method({col: value}, inplace=True)' or df[col] = df[col].method(value) instead, to perform the operation inplace on the original object.\n",
      "\n",
      "\n",
      "  Ames[item].fillna(mean_value, inplace=True)\n",
      "C:\\Users\\Asus\\AppData\\Local\\Temp\\ipykernel_13452\\3094688501.py:12: FutureWarning: A value is trying to be set on a copy of a DataFrame or Series through chained assignment using an inplace method.\n",
      "The behavior will change in pandas 3.0. This inplace method will never work because the intermediate object on which we are setting values always behaves as a copy.\n",
      "\n",
      "For example, when doing 'df[col].method(value, inplace=True)', try using 'df.method({col: value}, inplace=True)' or df[col] = df[col].method(value) instead, to perform the operation inplace on the original object.\n",
      "\n",
      "\n",
      "  Ames[item].fillna(mean_value, inplace=True)\n",
      "C:\\Users\\Asus\\AppData\\Local\\Temp\\ipykernel_13452\\3094688501.py:12: FutureWarning: A value is trying to be set on a copy of a DataFrame or Series through chained assignment using an inplace method.\n",
      "The behavior will change in pandas 3.0. This inplace method will never work because the intermediate object on which we are setting values always behaves as a copy.\n",
      "\n",
      "For example, when doing 'df[col].method(value, inplace=True)', try using 'df.method({col: value}, inplace=True)' or df[col] = df[col].method(value) instead, to perform the operation inplace on the original object.\n",
      "\n",
      "\n",
      "  Ames[item].fillna(mean_value, inplace=True)\n"
     ]
    }
   ],
   "source": [
    "# Build on the above blocks of code\n",
    "# Initialize a DataFrame to store the concise information\n",
    "concise_info = pd.DataFrame(columns=['Feature', 'Missing Values After Imputation', \n",
    "                                     'Mean Value Used to Impute'])\n",
    "\n",
    "# Identify and impute missing numerical values, and store the related concise information\n",
    "missing_numeric_df = missing_info[(missing_info['Missing Values'] > 0)\n",
    "                           & (missing_info['Data Type'] == np.number)]\n",
    "\n",
    "for item in missing_numeric_df.index.tolist():\n",
    "    mean_value = Ames[item].mean(skipna=True)\n",
    "    Ames[item].fillna(mean_value, inplace=True)\n",
    "\n",
    "    # Append the concise information to the concise_info DataFrame\n",
    "    concise_info.loc[len(concise_info)] = pd.Series({\n",
    "        'Feature': item,\n",
    "        'Missing Values After Imputation': Ames[item].isnull().sum(),\n",
    "        # This should be 0 as we are imputing all missing values\n",
    "        'Mean Value Used to Impute': mean_value\n",
    "    })\n",
    "\n",
    "# Display the concise_info DataFrame\n",
    "print(concise_info)"
   ]
  },
  {
   "cell_type": "code",
   "execution_count": 8,
   "id": "85452f20-c0c7-46dd-a438-3545ed0e4b49",
   "metadata": {},
   "outputs": [
    {
     "name": "stdout",
     "output_type": "stream",
     "text": [
      "The DataFrame has a total of 0 missing values.\n"
     ]
    }
   ],
   "source": [
    "# Build on the above blocks of code\n",
    "missing_values_count = Ames.isnull().sum().sum()\n",
    "print(f'The DataFrame has a total of {missing_values_count} missing values.')"
   ]
  },
  {
   "cell_type": "code",
   "execution_count": null,
   "id": "bbaa19ef-9f6c-48c0-88ee-5bab965c8b34",
   "metadata": {},
   "outputs": [],
   "source": []
  }
 ],
 "metadata": {
  "kernelspec": {
   "display_name": "Python [conda env:base] *",
   "language": "python",
   "name": "conda-base-py"
  },
  "language_info": {
   "codemirror_mode": {
    "name": "ipython",
    "version": 3
   },
   "file_extension": ".py",
   "mimetype": "text/x-python",
   "name": "python",
   "nbconvert_exporter": "python",
   "pygments_lexer": "ipython3",
   "version": "3.12.7"
  }
 },
 "nbformat": 4,
 "nbformat_minor": 5
}
