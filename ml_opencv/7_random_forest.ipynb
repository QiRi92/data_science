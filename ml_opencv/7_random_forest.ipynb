{
 "cells": [
  {
   "cell_type": "markdown",
   "id": "7231d41b-9375-4405-b62f-7baf794a14e6",
   "metadata": {},
   "source": [
    "# Random Forest for Image Classification Using OpenCV"
   ]
  },
  {
   "cell_type": "markdown",
   "id": "894c6b3c-a439-43a9-a587-288378df02f2",
   "metadata": {},
   "source": [
    "The Random Forest algorithm forms part of a family of ensemble machine learning algorithms and is a popular variation of bagged decision trees. It also comes implemented in the OpenCV library.\n",
    "\n",
    "In this tutorial, you will learn how to apply OpenCV’s Random Forest algorithm for image classification, starting with a relatively easier banknote dataset and then testing the algorithm on OpenCV’s digits dataset. \n",
    "\n",
    "After completing this tutorial, you will know:\n",
    "\n",
    "- Several of the most important characteristics of the Random Forest algorithm.\n",
    "- How to use the Random Forest algorithm for image classification in OpenCV."
   ]
  },
  {
   "cell_type": "markdown",
   "id": "1494cf09-49c1-4f80-905d-6bd7a9d55a13",
   "metadata": {},
   "source": [
    "## Tutorial Overview"
   ]
  },
  {
   "cell_type": "code",
   "execution_count": null,
   "id": "2b9e4471-948f-474d-91df-1b9464928e3e",
   "metadata": {},
   "outputs": [],
   "source": [
    "This tutorial is divided into two parts; they are:\n",
    "\n",
    "- Reminder of How Random Forests Work\n",
    "- Applying the Random Forest Algorithm to Image Classification\n",
    "    - Banknote Case Study\n",
    "    - Digits Case Study"
   ]
  },
  {
   "cell_type": "markdown",
   "id": "5fdb6271-6434-415a-83c8-6dc370e77e80",
   "metadata": {},
   "source": [
    "## Reminder of How Random Forests Work"
   ]
  },
  {
   "cell_type": "markdown",
   "id": "bd00fe1c-5b30-40c7-a0cf-df9cd79b25b5",
   "metadata": {},
   "source": [
    "The topic surrounding the Random Forest algorithm has already been explained well in these tutorials by Jason Brownlee [1, 2], but let’s first start with brushing up on some of the most important points:\n",
    "\n",
    "- Random Forest is a type of ensemble machine learning algorithm called *bagging*. It is a popular variation of *bagged decision trees*.\n",
    "  \n",
    "- A decision tree is a branched model that consists of a hierarchy of decision nodes, where each decision node splits the data based on a decision rule. Training a decision tree involves a greedy selection of the best split points (i.e., points that divide the input space best) by minimizing a cost function.\n",
    "\n",
    "- The greedy approach through which decision trees construct their decision boundaries makes them susceptible to high variance. This means that small changes in the training dataset can lead to very different tree structures and, in turn, model predictions. If the decision tree is not pruned, it will also tend to capture noise and outliers in the training data. This sensitivity to the training data makes decision trees susceptible to overfitting. \n",
    "\n",
    "- *Bagged decision trees* address this susceptibility by combining the predictions from multiple decision trees, each trained on a bootstrap sample of the training dataset created by sampling the dataset with replacement. The limitation of this approach stems from the fact that the same greedy approach trains each tree, and some samples may be picked several times during training, making it very possible that the trees share similar (or the same) split points (hence, resulting in correlated trees). \n",
    "\n",
    "- The Random Forest algorithm tries to mitigate this correlation by training each tree on a random subset of the training data, created by randomly sampling the dataset without replacement. In this manner, the greedy algorithm can only consider a fixed subset of the data to create the split points that make up each tree, which forces the trees to be different.\n",
    "\n",
    "- In the case of a classification problem, every tree in the forest produces a prediction output, and the final class label is identified as the output that the majority of the trees have produced. In the case of regression, the final output is the average of the outputs produced by all the trees."
   ]
  },
  {
   "cell_type": "markdown",
   "id": "977003c9-97d5-4a28-b2b9-edeaac1d7d6c",
   "metadata": {},
   "source": [
    "## Applying the Random Forest Algorithm to Image Classification"
   ]
  },
  {
   "cell_type": "markdown",
   "id": "285f5498-1d43-4919-99e3-3796b28661db",
   "metadata": {},
   "source": [
    "### Banknote Case Study"
   ]
  },
  {
   "cell_type": "markdown",
   "id": "29f742a0-9601-422b-a552-dd21bb7ae885",
   "metadata": {},
   "source": [
    "We’ll first use the banknote dataset used in this tutorial. \n",
    "\n",
    "The banknote dataset is a relatively simple one that involves predicting a given banknote’s authenticity. The dataset contains 1,372 rows, with each row representing a feature vector comprising four different measures extracted from a banknote photograph, plus its corresponding class label (authentic or not). \n",
    "\n",
    "The values in each feature vector correspond to the following:\n",
    "\n",
    "1. Variance of Wavelet Transformed image (continuous)\n",
    "2. Skewness of Wavelet Transformed image (continuous)\n",
    "3. Kurtosis of Wavelet Transformed image (continuous)\n",
    "4. Entropy of image (continuous)\n",
    "5. Class label (integer)\n",
    "\n",
    "The dataset may be downloaded from the [UCI Machine Learning Repository](https://archive.ics.uci.edu/ml/datasets/banknote+authentication). \n",
    "\n",
    "As in Jason’s tutorial, we shall load the dataset, convert its string numbers to floats, and partition it into training and testing sets:"
   ]
  },
  {
   "cell_type": "code",
   "execution_count": 2,
   "id": "42098726-39e5-48dc-84b6-b8c5bd9a1579",
   "metadata": {},
   "outputs": [],
   "source": [
    "from csv import reader\n",
    "from numpy import array, float32, int32, newaxis\n",
    "from sklearn import model_selection as ms\n",
    "\n",
    "# Function to load the dataset\n",
    "def load_csv(filename):\n",
    "    file = open(filename, \"rt\")\n",
    "    lines = reader(file)\n",
    "    dataset = list(lines)\n",
    "    return dataset\n",
    "\n",
    "# Function to convert a string column to float\n",
    "def str_column_to_float(dataset, column):\n",
    "    for row in dataset:\n",
    "        row[column] = float32(row[column].strip())\n",
    "\n",
    "# Load the dataset from text file\n",
    "data = load_csv('data_banknote_authentication.txt')\n",
    "\n",
    "# Convert the dataset string numbers to float\n",
    "for i in range(len(data[0])):\n",
    "    str_column_to_float(data, i)\n",
    "\n",
    "# Convert list to array\n",
    "data = array(data)\n",
    "\n",
    "# Separate the dataset samples from the ground truth\n",
    "samples = data[:, :4]\n",
    "target = data[:, -1, newaxis].astype(int32)\n",
    "\n",
    "# Split the data into training and testing sets\n",
    "x_train, x_test, y_train, y_test = ms.train_test_split(samples, target, test_size=0.2, random_state=10)"
   ]
  },
  {
   "cell_type": "markdown",
   "id": "422f1212-41d5-4914-88e0-565458b54023",
   "metadata": {},
   "source": [
    "The OpenCV library implements the <code>RTrees_create</code> function in the <code>ml</code> module, which will allow us to create an empty decision tree:"
   ]
  },
  {
   "cell_type": "code",
   "execution_count": null,
   "id": "6f0ee36b-a691-4116-81e9-839bc8049893",
   "metadata": {},
   "outputs": [],
   "source": [
    "# Create an empty decision tree\n",
    "rtree = ml.RTrees_create()"
   ]
  },
  {
   "cell_type": "markdown",
   "id": "2bd4119e-ce80-4d03-be07-6f345394e0b9",
   "metadata": {},
   "source": [
    "All the trees in the forest will be trained with the same parameter values, albeit on different subsets of the training dataset. The default parameter values can be customized, but let’s first work with the default implementation. We will return to customizing these parameter values shortly in the next section:"
   ]
  },
  {
   "cell_type": "code",
   "execution_count": null,
   "id": "3e28397d-d6cc-49cb-b908-7cce196b6516",
   "metadata": {},
   "outputs": [],
   "source": [
    "# Train the decision tree\n",
    "rtree.train(x_train, ml.ROW_SAMPLE, y_train)\n",
    "\n",
    "# Predict the target labels of the testing data\n",
    "_, y_pred = rtree.predict(x_test)\n",
    "\n",
    "# Compute and print the achieved accuracy\n",
    "accuracy = (sum(y_pred.astype(int32) == y_test) / y_test.size) * 100\n",
    "print('Accuracy:', accuracy[0], '%')"
   ]
  },
  {
   "cell_type": "code",
   "execution_count": null,
   "id": "798c2c3a-4caf-43fb-8a0b-cc3fffd1c53f",
   "metadata": {},
   "outputs": [],
   "source": [
    "Accuracy: 96.72727272727273 %"
   ]
  },
  {
   "cell_type": "markdown",
   "id": "2d0a2d4c-f815-48c9-9a94-fe76e8a1a0e3",
   "metadata": {},
   "source": [
    "We have already obtained a high accuracy of around 96.73% using the default implementation of the Random Forest algorithm on the banknote dataset. \n",
    "\n",
    "The complete code listing is as follows:"
   ]
  },
  {
   "cell_type": "code",
   "execution_count": 6,
   "id": "cbd18a6f-7d9d-4857-8aac-471b5363d5bc",
   "metadata": {},
   "outputs": [
    {
     "name": "stdout",
     "output_type": "stream",
     "text": [
      "Accuracy: 98.54545454545455 %\n"
     ]
    }
   ],
   "source": [
    "from csv import reader\n",
    "from numpy import array, float32, int32, newaxis\n",
    "from cv2 import ml\n",
    "from sklearn import model_selection as ms\n",
    "\n",
    "# Function to load the dataset\n",
    "def load_csv(filename):\n",
    "    file = open(filename, \"rt\")\n",
    "    lines = reader(file)\n",
    "    dataset = list(lines)\n",
    "    return dataset\n",
    "\n",
    "# Function to convert a string column to float\n",
    "def str_column_to_float(dataset, column):\n",
    "    for row in dataset:\n",
    "        row[column] = float32(row[column].strip())\n",
    "\n",
    "\n",
    "# Load the dataset from text file\n",
    "data = load_csv('data_banknote_authentication.txt')\n",
    "\n",
    "# Convert the dataset string numbers to float\n",
    "for i in range(len(data[0])):\n",
    "    str_column_to_float(data, i)\n",
    "\n",
    "# Convert list to array\n",
    "data = array(data)\n",
    "\n",
    "# Separate the dataset samples from the ground truth\n",
    "samples = data[:, :4]\n",
    "target = data[:, -1, newaxis].astype(int32)\n",
    "\n",
    "# Split the data into training and testing sets\n",
    "x_train, x_test, y_train, y_test = ms.train_test_split(samples, target, test_size=0.2, random_state=10)\n",
    "\n",
    "# Create an empty decision tree\n",
    "rtree = ml.RTrees_create()\n",
    "\n",
    "# Train the decision tree\n",
    "rtree.train(x_train, ml.ROW_SAMPLE, y_train)\n",
    "\n",
    "# Predict the target labels of the testing data\n",
    "_, y_pred = rtree.predict(x_test)\n",
    "\n",
    "# Compute and print the achieved accuracy\n",
    "accuracy = (sum(y_pred.astype(int32) == y_test) / y_test.size) * 100\n",
    "print('Accuracy:', accuracy[0], '%')"
   ]
  },
  {
   "cell_type": "markdown",
   "id": "564a5cf6-2a5d-4975-a583-4db5a5b18858",
   "metadata": {},
   "source": [
    "### Digits Case Study"
   ]
  },
  {
   "cell_type": "markdown",
   "id": "6a78b656-c891-43de-9d3a-fe3fa90098ad",
   "metadata": {},
   "source": [
    "Consider applying the Random Forest to images from OpenCV’s digits dataset. \n",
    "\n",
    "The digits dataset is still relatively simple. However, the feature vectors we will extract from its images using the HOG method will have higher dimensionality (81 features) than those in the banknote dataset. For this reason, we can consider the digits dataset to be relatively more challenging to work with than the banknote dataset. \n",
    "\n",
    "We will first investigate how the default implementation of the Random Forest algorithm copes with higher-dimensional data:"
   ]
  },
  {
   "cell_type": "code",
   "execution_count": null,
   "id": "7402b6be-444b-4cd3-b619-48a0213870e6",
   "metadata": {},
   "outputs": [],
   "source": [
    "from digits_dataset import split_images, split_data\n",
    "from feature_extraction import hog_descriptors\n",
    "from numpy import array, float32\n",
    "from cv2 import ml\n",
    "\n",
    "\n",
    "# Load the digits image\n",
    "img, sub_imgs = split_images('Images/digits.png', 20)\n",
    "\n",
    "# Obtain training and testing datasets from the digits image\n",
    "digits_train_imgs, digits_train_labels, digits_test_imgs, digits_test_labels = split_data(20, sub_imgs, 0.8)\n",
    "\n",
    "# Convert the image data into HOG descriptors\n",
    "digits_train_hog = hog_descriptors(digits_train_imgs)\n",
    "digits_test_hog = hog_descriptors(digits_test_imgs)\n",
    "\n",
    "# Create an empty decision tree\n",
    "rtree_digits = ml.RTrees_create()\n",
    "\n",
    "# Predict the target labels of the testing data\n",
    "_, digits_test_pred = rtree_digits.predict(digits_test_hog)\n",
    "\n",
    "# Compute and print the achieved accuracy\n",
    "accuracy_digits = (sum(digits_test_pred.astype(int) == digits_test_labels) / digits_test_labels.size) * 100\n",
    "print('Accuracy:', accuracy_digits[0], '%')"
   ]
  },
  {
   "cell_type": "code",
   "execution_count": null,
   "id": "3ef06ca9-03ee-4287-94a6-56e5f92d62b2",
   "metadata": {},
   "outputs": [],
   "source": [
    "Accuracy: 81.0 %"
   ]
  },
  {
   "cell_type": "markdown",
   "id": "6417eefe-78da-4be6-81a2-29e65c9f46b8",
   "metadata": {},
   "source": [
    "We find that the default implementation returns an accuracy of 81%. \n",
    "\n",
    "This drop in accuracy from that achieved on the banknote dataset may indicate that the capacity of the default implementation of the model may not be enough to learn the complexity of the higher-dimensional data that we are now working with. \n",
    "\n",
    "Let’s investigate whether we may obtain an improvement in the accuracy by changing:\n",
    "\n",
    "- The termination criteria of the training algorithm, which considers the number of trees in the forest, and the estimated performance of the model are measured by an Out-Of-Bag (OOB) error. The current termination criteria may be found by making use of the <code>getTermCriteria</code> method and set using the <code>setTermCriteria</code> method. When using the latter, the number of trees may be set through the <code>TERM_CRITERIA_MAX_ITER</code> parameter, whereas the desired accuracy may be specified using the <code>TERM_CRITERIA_EPS</code> parameter.\n",
    "\n",
    "- The maximum possible depth that each tree in the forest can attain. The current depth may be found using the <code>getMaxDepth</code> method, and set using the <code>setMaxDepth</code> method. The specified tree depth may not be reached if the above termination criteria are met first.\n",
    "\n",
    "When tweaking the above parameters, remember that increasing the number of trees can increase the model’s capacity to capture more intricate detail in the training data; it will also increase the prediction time linearly and make the model more susceptible to overfitting. Hence, tweak the parameters judiciously. \n",
    "\n",
    "If we add in the following lines following the creation of an empty decision tree, we may find the default values of the tree depth as well as the termination criteria:"
   ]
  },
  {
   "cell_type": "code",
   "execution_count": null,
   "id": "cf8f8f42-3c55-43c6-ae01-92742d2a4f8f",
   "metadata": {},
   "outputs": [],
   "source": [
    "print('Default tree depth:', rtree_digits.getMaxDepth())\n",
    "print('Default termination criteria:', rtree_digits.getTermCriteria())"
   ]
  },
  {
   "cell_type": "code",
   "execution_count": null,
   "id": "9e466f04-bff7-4aee-be30-c295e1726721",
   "metadata": {},
   "outputs": [],
   "source": [
    "Default tree depth: 5\n",
    "Default termination criteria: (3, 50, 0.1)"
   ]
  },
  {
   "cell_type": "markdown",
   "id": "98bd6626-5d74-4998-92d4-f9382e84c555",
   "metadata": {},
   "source": [
    "In this manner, we can see that, by default, each tree in the forest has a depth (or number of levels) equal to 5, while the number of trees and desired accuracy are set to 50 and 0.1, respectively. The first value returned by the <code>getTermCriteria</code> method refers to the type of termination criteria under consideration, where a value of 3 specifies termination based on both <code>TERM_CRITERIA_MAX_ITER</code> and <code>TERM_CRITERIA_EPS</code>.\n",
    "\n",
    "Let’s now try changing the values mentioned above to investigate their effect on the prediction accuracy. The code listing is as follows:"
   ]
  },
  {
   "cell_type": "code",
   "execution_count": null,
   "id": "1d8b0569-1ec0-4c70-b2eb-251c8fa10e46",
   "metadata": {},
   "outputs": [],
   "source": [
    "from digits_dataset import split_images, split_data\n",
    "from feature_extraction import hog_descriptors\n",
    "from numpy import array, float32\n",
    "from cv2 import ml, TERM_CRITERIA_MAX_ITER, TERM_CRITERIA_EPS\n",
    "\n",
    "\n",
    "# Load the digits image\n",
    "img, sub_imgs = split_images('Images/digits.png', 20)\n",
    "\n",
    "# Obtain training and testing datasets from the digits image\n",
    "digits_train_imgs, digits_train_labels, digits_test_imgs, digits_test_labels = split_data(20, sub_imgs, 0.8)\n",
    "\n",
    "# Convert the image data into HOG descriptors\n",
    "digits_train_hog = hog_descriptors(digits_train_imgs)\n",
    "digits_test_hog = hog_descriptors(digits_test_imgs)\n",
    "\n",
    "# Create an empty decision tree\n",
    "rtree_digits = ml.RTrees_create()\n",
    "\n",
    "# Read the default parameter values\n",
    "print('Default tree depth:', rtree_digits.getMaxDepth())\n",
    "print('Default termination criteria:', rtree_digits.getTermCriteria())\n",
    "\n",
    "# Change the default parameter values\n",
    "rtree_digits.setMaxDepth(15)\n",
    "rtree_digits.setTermCriteria((TERM_CRITERIA_MAX_ITER + TERM_CRITERIA_EPS, 100, 0.01))\n",
    "\n",
    "# Train the decision tree\n",
    "rtree_digits.train(digits_train_hog.astype(float32), ml.ROW_SAMPLE, digits_train_labels)\n",
    "\n",
    "# Predict the target labels of the testing data\n",
    "_, digits_test_pred = rtree_digits.predict(digits_test_hog)\n",
    "\n",
    "# Compute and print the achieved accuracy\n",
    "accuracy_digits = (sum(digits_test_pred.astype(int) == digits_test_labels) / digits_test_labels.size) * 100\n",
    "print('Accuracy:', accuracy_digits[0], ‘%')"
   ]
  },
  {
   "cell_type": "code",
   "execution_count": null,
   "id": "51aaa787-10f9-4c3e-926c-1e76f88a4140",
   "metadata": {},
   "outputs": [],
   "source": [
    "Accuracy: 94.1 %"
   ]
  },
  {
   "cell_type": "markdown",
   "id": "1955790d-109a-425d-a2d3-bc429f09eff0",
   "metadata": {},
   "source": [
    "We may see that the newly set parameter values bump the prediction accuracy to 94.1%.\n",
    "\n",
    "These parameter values are being set arbitrarily here to illustrate this example. Still, it is always advised to take a more systematic approach to tweaking the parameters of a model and investigating how each affects its performance. "
   ]
  },
  {
   "cell_type": "markdown",
   "id": "b0ed6571-a125-4da5-9a64-93c19cacd59b",
   "metadata": {},
   "source": [
    "## Summary"
   ]
  },
  {
   "cell_type": "markdown",
   "id": "5367a9e5-bce1-427f-8afd-a0a33ae2a939",
   "metadata": {},
   "source": [
    "In this tutorial, you learned how to apply OpenCV’s Random Forest algorithm for image classification, starting with a relatively easier banknote dataset and then testing the algorithm on OpenCV’s digits dataset. \n",
    "\n",
    "Specifically, you learned:\n",
    "\n",
    "- Several of the most important characteristics of the Random Forest algorithm.\n",
    "- How to use the Random Forest algorithm for image classification in OpenCV."
   ]
  }
 ],
 "metadata": {
  "kernelspec": {
   "display_name": "Python [conda env:base] *",
   "language": "python",
   "name": "conda-base-py"
  },
  "language_info": {
   "codemirror_mode": {
    "name": "ipython",
    "version": 3
   },
   "file_extension": ".py",
   "mimetype": "text/x-python",
   "name": "python",
   "nbconvert_exporter": "python",
   "pygments_lexer": "ipython3",
   "version": "3.12.7"
  }
 },
 "nbformat": 4,
 "nbformat_minor": 5
}
