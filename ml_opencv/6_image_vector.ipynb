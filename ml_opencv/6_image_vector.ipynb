{
 "cells": [
  {
   "cell_type": "markdown",
   "id": "0e2f0a3c-5333-4aa9-87e7-001cf946bb96",
   "metadata": {},
   "source": [
    "# Image Vector Representation for Machine Learning Using OpenCV"
   ]
  },
  {
   "cell_type": "markdown",
   "id": "56a51d08-f486-4123-ac34-736b75b554e4",
   "metadata": {},
   "source": [
    "One of the pre-processing steps that are often carried out on images before feeding them into a machine learning algorithm is to convert them into a feature vector. As we will see in this tutorial, there are several advantages to converting an image into a feature vector that makes the latter more efficient. \n",
    "\n",
    "Among the different techniques for converting an image into a feature vector, two of the most popular techniques used in conjunction with different machine learning algorithms are the Histogram of Oriented Gradients and the Bag-of-Words techniques.\n",
    "\n",
    "In this tutorial, you will discover the Histogram of Oriented Gradients (HOG) and the Bag-of-Words (BoW) techniques for image vector representation. \n",
    "\n",
    "After completing this tutorial, you will know:\n",
    "\n",
    "- What are the advantages of using the Histogram of Oriented Gradients and the Bag-of-Words techniques for image vector representation. \n",
    "- How to use the Histogram of Oriented Gradients technique in OpenCV. \n",
    "- How to use the Bag-of-Words technique in OpenCV."
   ]
  },
  {
   "cell_type": "markdown",
   "id": "b9882301-0173-4e9c-adc0-15befb81e781",
   "metadata": {},
   "source": [
    "## Tutorial Overview"
   ]
  },
  {
   "cell_type": "markdown",
   "id": "1d5befd9-1a80-4f7d-bfc4-3e889b958366",
   "metadata": {},
   "source": [
    "This tutorial is divided into four parts; they are:\n",
    "\n",
    "- What are the Advantages of Using HOG or BoW for Image Vector Representation?\n",
    "- The Histogram of Oriented Gradients Technique\n",
    "- The Bag-of-Words Technique\n",
    "- Putting the Techniques to Test"
   ]
  },
  {
   "cell_type": "markdown",
   "id": "e8a5465c-0df2-4086-a3d4-b058f40239a1",
   "metadata": {},
   "source": [
    "## What are the Advantages of Using HOG or BoW for Image Vector Representation?"
   ]
  },
  {
   "cell_type": "markdown",
   "id": "1c2b5e2d-eaeb-46ef-b443-3640bf1507b7",
   "metadata": {},
   "source": [
    "When working with machine learning algorithms, the image data typically undergoes a data pre-processing step, which is structured so that the machine learning algorithms can work with it. \n",
    "\n",
    "In OpenCV, for instance, the ml module requires that the image data is fed into the machine learning algorithms in the form of feature vectors of equal length. "
   ]
  },
  {
   "cell_type": "markdown",
   "id": "e6ace682-e301-44c8-ab22-d92ee921f926",
   "metadata": {},
   "source": [
    "One way of structuring the image data is to flatten it out into a one-dimensional vector, where the vector’s length would equal the number of pixels in the image. For example, a 20X20 pixel image would result in a one-dimensional vector of length 400 pixels. This one-dimensional vector serves as the feature set fed into the machine learning algorithm, where the intensity value of each pixel represents every feature.\n",
    "\n",
    "However, while this is the simplest feature set we can create, it is not the most effective one, especially when working with larger images that will result in too many input features to be processed effectively by a machine learning algorithm."
   ]
  },
  {
   "cell_type": "markdown",
   "id": "ea3b1508-0204-40a0-89e6-305fbda5d96b",
   "metadata": {},
   "source": [
    "Rather, we want to reduce the number of input features that represent each image so that, in turn, the machine learning algorithm can generalize better to the input data. In more technical words, it is desirable to perform dimensionality reduction that transforms the image data from a high-dimensional space to a lower one. \n",
    "\n",
    "One way of doing so is to apply feature extraction and representation techniques, such as the Histogram of Oriented Gradients (HOG) or the Bag-of-Words (BoW), to represent an image in a more compact manner and, in turn, reduce the redundancy in the feature set and the computational requirements to process it. \n",
    "\n",
    "Another advantage to converting the image data into a feature vector using the aforementioned techniques is that the vector representation of the image becomes more robust to variations in illumination, scale, or viewpoint.\n",
    "\n",
    "In the following sections, we will explore using the HOG and BoW techniques for image vector representation."
   ]
  },
  {
   "cell_type": "markdown",
   "id": "3c1584e1-fc04-46d0-8a50-b514cbe9a383",
   "metadata": {},
   "source": [
    "## The Histogram of Oriented Gradients Technique"
   ]
  },
  {
   "cell_type": "markdown",
   "id": "295d04dc-1f19-4a9c-847e-3691c1945119",
   "metadata": {},
   "source": [
    "The HOG is a feature extraction technique that aims to represent the local shape and appearance of objects inside the image space by a distribution of their edge directions. \n",
    "\n",
    "In a nutshell, the HOG technique performs the following steps when applied to an image:\n",
    "\n",
    "1. Computes the image gradients in horizontal and vertical directions using, for example, a Prewitt operator. The magnitude and direction of the gradient are then computed for every pixel in the image. \n",
    "\n",
    "2. Divide the image into non-overlapping cells of fixed size and compute a histogram of gradients for each cell. This histogram representation of every image cell is more compact and more robust to noise. The cell size is typically set according to the size of the image features we want to capture.  \n",
    "\n",
    "3. Concatenates the histograms over blocks of cells into one-dimensional feature vectors and normalizes them. This makes the descriptor more robust to lighting variations.\n",
    "\n",
    "4. Finally, it concatenates all normalized feature vectors representing the blocks of cells to obtain a final feature vector representation of the entire image.\n",
    "\n",
    "The HOG implementation in OpenCV takes several input arguments that correspond to the aforementioned steps, including:\n",
    "\n",
    "- The window size (*winSize*) that corresponds to the minimum object size to be detected. \n",
    "- The cell size (*cellSize*) typically captures the size of the image features of interest. \n",
    "- The block size (*blockSize*) tackles the problem of variation in illumination. \n",
    "- The block stride (*blockStride*) controls how much neighboring blocks overlap. \n",
    "- The number of histogram bins (*nbins*) to capture gradients between 0 and 180 degrees.\n",
    "\n",
    "Let’s create a function, <code>hog_descriptors()</code> that computes feature vectors for a set of images using the HOG technique:"
   ]
  },
  {
   "cell_type": "code",
   "execution_count": null,
   "id": "4663d239-207e-4555-9cbb-ad7c814139c2",
   "metadata": {},
   "outputs": [],
   "source": [
    "def hog_descriptors(imgs):\n",
    "    # Create a list to store the HOG feature vectors\n",
    "    hog_features = []\n",
    "\n",
    "    # Set parameter values for the HOG descriptor based on the image data in use\n",
    "    winSize = (20, 20)\n",
    "    blockSize = (10, 10)\n",
    "    blockStride = (5, 5)\n",
    "    cellSize = (10, 10)\n",
    "    nbins = 9\n",
    "\n",
    "    # Set the remaining parameters to their default values\n",
    "    derivAperture = 1\n",
    "    winSigma = -1.\n",
    "    histogramNormType = 0\n",
    "    L2HysThreshold = 0.2\n",
    "    gammaCorrection = False\n",
    "    nlevels = 64\n",
    "\n",
    "    # Create a HOG descriptor\n",
    "    hog = HOGDescriptor(winSize, blockSize, blockStride, cellSize, nbins, derivAperture, winSigma,\n",
    "                        histogramNormType, L2HysThreshold, gammaCorrection, nlevels)\n",
    "\n",
    "    # Compute HOG descriptors for the input images and append the feature vectors to the list\n",
    "    for img in imgs:\n",
    "        hist = hog.compute(img.reshape(20, 20).astype(uint8))\n",
    "        hog_features.append(hist)\n",
    "\n",
    "    return array(hog_features)"
   ]
  },
  {
   "cell_type": "markdown",
   "id": "d60355aa-2665-47e7-be23-d95531d14085",
   "metadata": {},
   "source": [
    "**Note**: It is important to note that how the images are being reshaped here corresponds to the image dataset that will be later used in this tutorial. If you use a different dataset, do not forget to tweak this part of the code accordingly. "
   ]
  },
  {
   "cell_type": "markdown",
   "id": "54d65e77-a761-44e1-94bf-9315e25e5eb1",
   "metadata": {},
   "source": [
    "## The Bag-of-Words Technique"
   ]
  },
  {
   "cell_type": "markdown",
   "id": "fba0e424-fb03-436e-9508-e9987ab4d636",
   "metadata": {},
   "source": [
    "The BoW technique has been introduced in this tutorial as applied to modeling text with machine learning algorithms. \n",
    "\n",
    "Nonetheless, this technique can also be applied to computer vision, where images are treated as visual words from which features can be extracted. For this reason, when applied to computer vision, the BoW technique is often called the Bag-of-Visual-Words technique. \n",
    "\n",
    "In a nutshell, the BoW technique performs the following steps when applied to an image:\n",
    "\n",
    "1. Extracts feature descriptors from an image using algorithms such as the Scale-Invariant Feature Transform (SIFT) or Speeded Up Robust Features (SURF). Ideally, the extracted features should be invariant to intensity, scale, rotation, and affine variations. \n",
    "\n",
    "2. Generates codewords from the feature descriptors where each codeword is representative of similar image patches. One way of generating these codewords is to use k-means clustering to aggregate similar descriptors into clusters, where the centers of the clusters would then represent the visual words, while the number of clusters represents the vocabulary size.\n",
    "\n",
    "3. Maps the feature descriptors to the nearest cluster in the vocabulary, essentially assigning a codeword to each feature descriptor. \n",
    "\n",
    "4. Bins the codewords into a histogram and uses this histogram as a feature vector representation of the image.\n",
    "\n",
    "Let’s create a function, <code>bow_descriptors()</code>, that applies the BoW technique using SIFT to a set of images:"
   ]
  },
  {
   "cell_type": "code",
   "execution_count": null,
   "id": "d8ff7944-bb48-447e-a982-e7d468d963c8",
   "metadata": {},
   "outputs": [],
   "source": [
    "def bow_descriptors(imgs):\n",
    "    # Create a SIFT descriptor\n",
    "    sift = SIFT_create()\n",
    "\n",
    "    # Create a BoW descriptor\n",
    "    # The number of clusters equal to 50 (analogous to the vocabulary size) has been chosen empirically\n",
    "    bow_trainer = BOWKMeansTrainer(50)\n",
    "    bow_extractor = BOWImgDescriptorExtractor(sift, BFMatcher(NORM_L2))\n",
    "\n",
    "    for img in imgs:\n",
    "        # Reshape each RGB image and convert it to grayscale\n",
    "        img = reshape(img, (32, 32, 3), 'F')\n",
    "        img = cvtColor(img, COLOR_RGB2GRAY).transpose()\n",
    "\n",
    "        # Extract the SIFT descriptors\n",
    "        _, descriptors = sift.detectAndCompute(img, None)\n",
    "\n",
    "        # Add the SIFT descriptors to the BoW vocabulary trainer\n",
    "        if descriptors is not None:\n",
    "            bow_trainer.add(descriptors)\n",
    "\n",
    "    # Perform k-means clustering and return the vocabulary\n",
    "    voc = bow_trainer.cluster()\n",
    "\n",
    "    # Assign the vocabulary to the BoW descriptor extractor\n",
    "    bow_extractor.setVocabulary(voc)\n",
    "\n",
    "    # Create a list to store the BoW feature vectors\n",
    "    bow_features = []\n",
    "\n",
    "    for img in imgs:\n",
    "        # Reshape each RGB image and convert it to grayscale\n",
    "        img = reshape(img, (32, 32, 3), 'F')\n",
    "        img = cvtColor(img, COLOR_RGB2GRAY).transpose()\n",
    "\n",
    "        # Compute the BoW feature vector\n",
    "        hist = bow_extractor.compute(img, sift.detect(img))\n",
    "\n",
    "        # Append the feature vectors to the list\n",
    "        if hist is not None:\n",
    "            bow_features.append(hist[0])\n",
    "\n",
    "    return array(bow_features)"
   ]
  },
  {
   "cell_type": "markdown",
   "id": "06bb50f7-c147-4f53-94f7-d451b60d37de",
   "metadata": {},
   "source": [
    "**Note**: It is important to note that how the images are being reshaped here corresponds to the image dataset that will be later used in this tutorial. If you use a different dataset, do not forget to tweak this part of the code accordingly. "
   ]
  },
  {
   "cell_type": "markdown",
   "id": "7f19eeb4-983e-4ffa-a3f8-d0faf6334855",
   "metadata": {},
   "source": [
    "## Putting the Techniques to Test"
   ]
  },
  {
   "cell_type": "markdown",
   "id": "7d3a2104-b4a2-48d3-bbeb-bc41f57ce42d",
   "metadata": {},
   "source": [
    "There isn’t necessarily a single best technique for all cases, and the choice of technique for the image data you are working with often requires controlled experiments. \n",
    "\n",
    "In this tutorial, as an example, we will apply the HOG technique to the digits dataset that comes with OpenCV, and the BoW technique to images from the CIFAR-10 dataset. For this tutorial, we will only be considering a subset of images from these two datasets to reduce the required processing time. Nonetheless, the same code can be easily extended to the full datasets. \n",
    "\n",
    "We will start by loading the datasets we will be working with. Recall that we had seen how to extract the images from each dataset in this tutorial. The <code>digits_dataset</code> and the <code>cifar_dataset</code> are Python scripts that I have created and which contain the code for loading the digits and the CIFAR-10 datasets, respectively:"
   ]
  },
  {
   "cell_type": "code",
   "execution_count": null,
   "id": "a23c89ab-6750-4274-91dc-91dc5a81e19e",
   "metadata": {},
   "outputs": [],
   "source": [
    "from digits_dataset import split_images, split_data\n",
    "from cifar_dataset import load_images\n",
    "\n",
    "# Load the digits image\n",
    "img, sub_imgs = split_images('Images/digits.png', 20)\n",
    "\n",
    "# Obtain a dataset from the digits image\n",
    "digits_imgs, _, _, _ = split_data(20, sub_imgs, 0.8)\n",
    "\n",
    "# Load a batch of images from the CIFAR dataset\n",
    "cifar_imgs = load_images('Images/cifar-10-batches-py/data_batch_1')\n",
    "\n",
    "# Consider only a subset of images\n",
    "digits_subset = digits_imgs[0:100, :]\n",
    "cifar_subset = cifar_imgs[0:100, :]"
   ]
  },
  {
   "cell_type": "markdown",
   "id": "180dd9e2-4816-4731-a06d-0f9f8daaffa9",
   "metadata": {},
   "source": [
    "We may then proceed to pass on the datasets to the <code>hog_descriptors()</code> and the <code>bow_descriptors()</code> functions that we have created earlier in this tutorial:"
   ]
  },
  {
   "cell_type": "code",
   "execution_count": null,
   "id": "42414701-26f3-4b0b-88fb-ece2d1959c41",
   "metadata": {},
   "outputs": [],
   "source": [
    "digits_hog = hog_descriptors(digits_subset)\n",
    "print('Size of HOG feature vectors:', digits_hog.shape)\n",
    "\n",
    "cifar_bow = bow_descriptors(cifar_subset)\n",
    "print('Size of BoW feature vectors:', cifar_bow.shape)"
   ]
  },
  {
   "cell_type": "markdown",
   "id": "3f4bce22-0fc0-453a-a455-8580dfa2e3c9",
   "metadata": {},
   "source": [
    "The complete code listing looks as follows:"
   ]
  },
  {
   "cell_type": "code",
   "execution_count": null,
   "id": "2c70a980-48e8-441f-a25b-d67db1bffff5",
   "metadata": {},
   "outputs": [],
   "source": [
    "from cv2 import (imshow, waitKey, HOGDescriptor, SIFT_create, BOWKMeansTrainer,\n",
    "                 BOWImgDescriptorExtractor, BFMatcher, NORM_L2, cvtColor, COLOR_RGB2GRAY)\n",
    "from digits_dataset import split_images, split_data\n",
    "from cifar_dataset import load_images\n",
    "from numpy import uint8, array, reshape\n",
    "\n",
    "# Load the digits image\n",
    "img, sub_imgs = split_images('Images/digits.png', 20)\n",
    "\n",
    "# Obtain a dataset from the digits image\n",
    "digits_imgs, _, _, _ = split_data(20, sub_imgs, 0.8)\n",
    "\n",
    "# Load a batch of images from the CIFAR dataset\n",
    "cifar_imgs = load_images('Images/cifar-10-batches-py/data_batch_1')\n",
    "\n",
    "# Consider only a subset of images\n",
    "digits_subset = digits_imgs[0:100, :]\n",
    "cifar_subset = cifar_imgs[0:100, :]\n",
    "\n",
    "def hog_descriptors(imgs):\n",
    "    # Create a list to store the HOG feature vectors\n",
    "    hog_features = []\n",
    "\n",
    "    # Set parameter values for the HOG descriptor based on the image data in use\n",
    "    winSize = (20, 20)\n",
    "    blockSize = (10, 10)\n",
    "    blockStride = (5, 5)\n",
    "    cellSize = (10, 10)\n",
    "    nbins = 9\n",
    "\n",
    "    # Set the remaining parameters to their default values\n",
    "    derivAperture = 1\n",
    "    winSigma = -1.\n",
    "    histogramNormType = 0\n",
    "    L2HysThreshold = 0.2\n",
    "    gammaCorrection = False\n",
    "    nlevels = 64\n",
    "\n",
    "    # Create a HOG descriptor\n",
    "    hog = HOGDescriptor(winSize, blockSize, blockStride, cellSize, nbins, derivAperture, winSigma,\n",
    "                        histogramNormType, L2HysThreshold, gammaCorrection, nlevels)\n",
    "\n",
    "    # Compute HOG descriptors for the input images and append the feature vectors to the list\n",
    "    for img in imgs:\n",
    "        hist = hog.compute(img.reshape(20, 20).astype(uint8))\n",
    "        hog_features.append(hist)\n",
    "\n",
    "    return array(hog_features)\n",
    "\n",
    "\n",
    "def bow_descriptors(imgs):\n",
    "    # Create a SIFT descriptor\n",
    "    sift = SIFT_create()\n",
    "\n",
    "    # Create a BoW descriptor\n",
    "    # The number of clusters equal to 50 (analogous to the vocabulary size) has been chosen empirically\n",
    "    bow_trainer = BOWKMeansTrainer(50)\n",
    "    bow_extractor = BOWImgDescriptorExtractor(sift, BFMatcher(NORM_L2))\n",
    "\n",
    "    for img in imgs:\n",
    "        # Reshape each RGB image and convert it to grayscale\n",
    "        img = reshape(img, (32, 32, 3), 'F')\n",
    "        img = cvtColor(img, COLOR_RGB2GRAY).transpose()\n",
    "\n",
    "        # Extract the SIFT descriptors\n",
    "        _, descriptors = sift.detectAndCompute(img, None)\n",
    "\n",
    "        # Add the SIFT descriptors to the BoW vocabulary trainer\n",
    "        if descriptors is not None:\n",
    "            bow_trainer.add(descriptors)\n",
    "\n",
    "    # Perform k-means clustering and return the vocabulary\n",
    "    voc = bow_trainer.cluster()\n",
    "\n",
    "    # Assign the vocabulary to the BoW descriptor extractor\n",
    "    bow_extractor.setVocabulary(voc)\n",
    "\n",
    "    # Create a list to store the BoW feature vectors\n",
    "    bow_features = []\n",
    "\n",
    "    for img in imgs:\n",
    "        # Reshape each RGB image and convert it to grayscale\n",
    "        img = reshape(img, (32, 32, 3), 'F')\n",
    "        img = cvtColor(img, COLOR_RGB2GRAY).transpose()\n",
    "\n",
    "        # Compute the BoW feature vector\n",
    "        hist = bow_extractor.compute(img, sift.detect(img))\n",
    "\n",
    "        # Append the feature vectors to the list\n",
    "        if hist is not None:\n",
    "            bow_features.append(hist[0])\n",
    "\n",
    "    return array(bow_features)\n",
    "\n",
    "\n",
    "digits_hog = hog_descriptors(digits_subset)\n",
    "print('Size of HOG feature vectors:', digits_hog.shape)\n",
    "\n",
    "cifar_bow = bow_descriptors(cifar_subset)\n",
    "print('Size of BoW feature vectors:', cifar_bow.shape)"
   ]
  },
  {
   "cell_type": "markdown",
   "id": "2e5b5ed6-7736-43c6-9231-72cfe8e6dffe",
   "metadata": {},
   "source": [
    "The code above returns the following output:"
   ]
  },
  {
   "cell_type": "code",
   "execution_count": null,
   "id": "6fda5aed-c450-44a8-95b3-99686c0ac174",
   "metadata": {},
   "outputs": [],
   "source": [
    "Size of HOG feature vectors:  (100, 81)\n",
    "Size of BoW feature vectors: (100, 50)"
   ]
  },
  {
   "cell_type": "markdown",
   "id": "faa33560-34e0-4674-a1be-833b60cca311",
   "metadata": {},
   "source": [
    "Based on our choice of parameter values, we may see that the HOG technique returns feature vectors of size 1X81 for each image. This means each image is now represented by points in an 81-dimensional space. The BoW technique, on the other hand, returns vectors of size 1X50 for each image, where the vector length has been determined by the number of k-means clusters of choice, which is also analogous to the vocabulary size.  \n",
    "\n",
    "Hence, we may see that, instead of simply flattening out each image into a one-dimensional vector, we have managed to represent each image more compactly by applying the HOG and BoW techniques. \n",
    "\n",
    "Our next step will be to see how we can exploit this data using different machine learning algorithms. "
   ]
  },
  {
   "cell_type": "markdown",
   "id": "5b9d4a53-7894-416a-9c4d-151886f215c0",
   "metadata": {},
   "source": [
    "## Summary"
   ]
  },
  {
   "cell_type": "markdown",
   "id": "a88dece3-fe54-4160-be93-7ea997b0d505",
   "metadata": {},
   "source": [
    "In this tutorial, you will discover the Histogram of Oriented Gradients and the Bag-of-Words techniques for image vector representation. \n",
    "\n",
    "Specifically, you learned:\n",
    "\n",
    "- What are the advantages of using the Histogram of Oriented Gradients and the Bag-of-Words techniques for image vector representation\n",
    "- How to use the Histogram of Oriented Gradients technique in OpenCV. \n",
    "- How to use the Bag-of-Words technique in OpenCV."
   ]
  }
 ],
 "metadata": {
  "kernelspec": {
   "display_name": "Python [conda env:base] *",
   "language": "python",
   "name": "conda-base-py"
  },
  "language_info": {
   "codemirror_mode": {
    "name": "ipython",
    "version": 3
   },
   "file_extension": ".py",
   "mimetype": "text/x-python",
   "name": "python",
   "nbconvert_exporter": "python",
   "pygments_lexer": "ipython3",
   "version": "3.12.7"
  }
 },
 "nbformat": 4,
 "nbformat_minor": 5
}
