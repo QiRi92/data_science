{
 "cells": [
  {
   "cell_type": "markdown",
   "id": "aa6abac6-9ed8-467e-bfa4-f2539aaf5131",
   "metadata": {},
   "source": [
    "# A Gentle Introduction to OpenCV: An Open Source Library for Computer Vision and Machine Learning"
   ]
  },
  {
   "cell_type": "markdown",
   "id": "7065caa9-07ac-49a6-9765-dead52920f04",
   "metadata": {},
   "source": [
    "If you are interested in working with images and video and would like to introduce machine learning into your computer vision applications, then OpenCV is a library you will need to get hold of. \n",
    "\n",
    "OpenCV is a huge open source library that can interface with various programming languages, including Python, and is extensively used by many individuals and commercial entities. \n",
    "\n",
    "In this tutorial, you will familiarise yourself with the OpenCV library and what makes it important. \n",
    "\n",
    "After completing this tutorial, you will know:\n",
    "\n",
    "- What is the OpenCV library.\n",
    "- What is it used for, and who is using it.\n",
    "- How to install and import OpenCV in Python. "
   ]
  },
  {
   "cell_type": "markdown",
   "id": "8abf67f5-c07f-4e52-84df-08d11b611689",
   "metadata": {},
   "source": [
    "## Tutorial Overview"
   ]
  },
  {
   "cell_type": "markdown",
   "id": "9ac8d0c0-39dd-4a6f-824d-535af707019c",
   "metadata": {},
   "source": [
    "This tutorial is divided into four parts; they are:\n",
    "\n",
    "- What is OpenCV?\n",
    "- What is OpenCV used for?\n",
    "- Who is using OpenCV?\n",
    "- How is OpenCV installed and imported in Python?"
   ]
  },
  {
   "cell_type": "markdown",
   "id": "6e6afcfd-f44f-47e8-9fda-dccbcf34e61c",
   "metadata": {},
   "source": [
    "## What is OpenCV?"
   ]
  },
  {
   "cell_type": "markdown",
   "id": "ba51b3e8-f2e2-406f-a3c9-9a61fb246db4",
   "metadata": {},
   "source": [
    "OpenCV stands for *Open Source Computer Vision Library*; as the name hints, it is an open-source library of computer vision and machine learning software. \n",
    "\n",
    "It has an Apache 2.0 license, which permits users to utilize, modify, and distribute the software. This makes it especially attractive for commercial entities to use this library in their products. \n",
    "\n",
    "Written natively in C++, the OpenCV library supports Windows, Linux, Android, and MacOS, and has C++, Python, Java, and MATLAB interfaces. \n",
    "\n",
    "It is geared mostly towards real-time computer vision applications. "
   ]
  },
  {
   "cell_type": "markdown",
   "id": "4d48ea0f-0915-4211-a542-3224c7300d66",
   "metadata": {},
   "source": [
    "## What is OpenCV used for?"
   ]
  },
  {
   "cell_type": "markdown",
   "id": "7f56fcfb-0957-4ca4-8a84-2eceebdd98de",
   "metadata": {},
   "source": [
    "OpenCV is a huge library containing more than 2500 optimized algorithms that can be used for many different computer vision applications, such as:\n",
    "\n",
    "- Face detection and recognition. \n",
    "- Object identification. \n",
    "- Object tracking. \n",
    "- Image registration and stitching. \n",
    "- Augmented reality. \n",
    "\n",
    "and many others. \n",
    "\n",
    "In this series of tutorials, you will discover the specific role that the OpenCV library plays in applying machine learning to computer vision applications.\n",
    "\n",
    "Some popular machine learning algorithms that are implemented in the OpenCV library include:\n",
    "\n",
    "- K-Nearest Neighbors\n",
    "- Support Vector Machines\n",
    "- Decision Trees\n",
    "\n",
    "as well as the support of a number of deep learning frameworks, including TensorFlow and PyTorch. "
   ]
  },
  {
   "cell_type": "markdown",
   "id": "aeb90086-0268-41b4-a6fa-ca246e6ecc2a",
   "metadata": {},
   "source": [
    "## Who is using OpenCV?"
   ]
  },
  {
   "cell_type": "markdown",
   "id": "ce748a04-8952-405b-a8b3-fe905c45bce0",
   "metadata": {},
   "source": [
    "The OpenCV website estimates that the number of library downloads exceeds 18 million, and a user community is formed by more than 47 thousand users. \n",
    "\n",
    "The OpenCV library is also used by many well-established companies. \n",
    "\n",
    "This shows how extensive the use of the OpenCV library is. "
   ]
  },
  {
   "cell_type": "markdown",
   "id": "02953ce3-8a94-487b-bafe-f62c43aa353e",
   "metadata": {},
   "source": [
    "## How is OpenCV installed and imported in Python?"
   ]
  },
  {
   "cell_type": "markdown",
   "id": "518eeedf-7519-45e0-b58b-b0d97ae6295f",
   "metadata": {},
   "source": [
    "As mentioned earlier, the OpenCV library is written in C++, but its functions can still be called from Python. \n",
    "\n",
    "This is made possible by binding generators that create a bridge between C++ and Python. \n",
    "\n",
    "Installing the OpenCV library from the Python Package Index (PyPi) can be done through the following single-line command:"
   ]
  },
  {
   "cell_type": "code",
   "execution_count": 1,
   "id": "dfa9d56d-22d4-4ecc-9c48-6b342282efbf",
   "metadata": {},
   "outputs": [
    {
     "name": "stdout",
     "output_type": "stream",
     "text": [
      "Collecting opencv-python\n",
      "  Downloading opencv_python-4.12.0.88-cp37-abi3-win_amd64.whl.metadata (19 kB)\n",
      "Collecting numpy<2.3.0,>=2 (from opencv-python)\n",
      "  Downloading numpy-2.2.6-cp312-cp312-win_amd64.whl.metadata (60 kB)\n",
      "Downloading opencv_python-4.12.0.88-cp37-abi3-win_amd64.whl (39.0 MB)\n",
      "   ---------------------------------------- 0.0/39.0 MB ? eta -:--:--\n",
      "   --- ------------------------------------ 3.4/39.0 MB 18.3 MB/s eta 0:00:02\n",
      "   ------ --------------------------------- 6.6/39.0 MB 15.5 MB/s eta 0:00:03\n",
      "   -------- ------------------------------- 8.4/39.0 MB 15.3 MB/s eta 0:00:03\n",
      "   ---------- ----------------------------- 10.0/39.0 MB 12.2 MB/s eta 0:00:03\n",
      "   ------------ --------------------------- 12.1/39.0 MB 11.4 MB/s eta 0:00:03\n",
      "   -------------- ------------------------- 13.9/39.0 MB 11.0 MB/s eta 0:00:03\n",
      "   ---------------- ----------------------- 16.0/39.0 MB 10.8 MB/s eta 0:00:03\n",
      "   ------------------ --------------------- 18.4/39.0 MB 10.8 MB/s eta 0:00:02\n",
      "   -------------------- ------------------- 20.4/39.0 MB 10.9 MB/s eta 0:00:02\n",
      "   ----------------------- ---------------- 23.1/39.0 MB 11.0 MB/s eta 0:00:02\n",
      "   -------------------------- ------------- 25.7/39.0 MB 11.0 MB/s eta 0:00:02\n",
      "   ----------------------------- ---------- 28.3/39.0 MB 11.2 MB/s eta 0:00:01\n",
      "   ------------------------------- -------- 30.9/39.0 MB 11.3 MB/s eta 0:00:01\n",
      "   ---------------------------------- ----- 33.8/39.0 MB 11.4 MB/s eta 0:00:01\n",
      "   ------------------------------------- -- 36.7/39.0 MB 11.5 MB/s eta 0:00:01\n",
      "   ---------------------------------------  38.8/39.0 MB 11.7 MB/s eta 0:00:01\n",
      "   ---------------------------------------- 39.0/39.0 MB 10.9 MB/s eta 0:00:00\n",
      "Downloading numpy-2.2.6-cp312-cp312-win_amd64.whl (12.6 MB)\n",
      "   ---------------------------------------- 0.0/12.6 MB ? eta -:--:--\n",
      "   --------- ------------------------------ 3.1/12.6 MB 15.3 MB/s eta 0:00:01\n",
      "   ------------------- -------------------- 6.3/12.6 MB 14.8 MB/s eta 0:00:01\n",
      "   ------------------------------ --------- 9.7/12.6 MB 15.1 MB/s eta 0:00:01\n",
      "   ------------------------------------- -- 11.8/12.6 MB 13.7 MB/s eta 0:00:01\n",
      "   ---------------------------------------- 12.6/12.6 MB 12.0 MB/s eta 0:00:00\n",
      "Installing collected packages: numpy, opencv-python\n",
      "  Attempting uninstall: numpy\n",
      "    Found existing installation: numpy 1.26.4\n",
      "    Uninstalling numpy-1.26.4:\n",
      "      Successfully uninstalled numpy-1.26.4\n",
      "Successfully installed numpy-2.2.6 opencv-python-4.12.0.88\n",
      "Note: you may need to restart the kernel to use updated packages.\n"
     ]
    },
    {
     "name": "stderr",
     "output_type": "stream",
     "text": [
      "  WARNING: Failed to remove contents in a temporary directory 'D:\\anaconda3\\Lib\\site-packages\\~umpy'.\n",
      "  You can safely remove it manually.\n",
      "ERROR: pip's dependency resolver does not currently take into account all the packages that are installed. This behaviour is the source of the following dependency conflicts.\n",
      "contourpy 1.2.0 requires numpy<2.0,>=1.20, but you have numpy 2.2.6 which is incompatible.\n",
      "gensim 4.3.3 requires numpy<2.0,>=1.18.5, but you have numpy 2.2.6 which is incompatible.\n",
      "numba 0.60.0 requires numpy<2.1,>=1.22, but you have numpy 2.2.6 which is incompatible.\n",
      "tensorflow 2.19.0 requires numpy<2.2.0,>=1.26.0, but you have numpy 2.2.6 which is incompatible.\n"
     ]
    }
   ],
   "source": [
    "pip install opencv-python"
   ]
  },
  {
   "cell_type": "markdown",
   "id": "9e26f5d0-6824-4cb7-bda9-f923a9114094",
   "metadata": {},
   "source": [
    "Importing OpenCV to make use of its functions is, then, as simple as calling:"
   ]
  },
  {
   "cell_type": "code",
   "execution_count": 1,
   "id": "572bc1fd-870a-4f4a-9807-b21ef05dc79a",
   "metadata": {},
   "outputs": [],
   "source": [
    "import cv2"
   ]
  },
  {
   "cell_type": "markdown",
   "id": "ee3d9e3c-c9d9-4df3-93e6-b2559b33c510",
   "metadata": {},
   "source": [
    "We will make frequent use of the import command as we journey our way through the library. \n",
    "\n",
    "We’ll start from the very basics by seeing how to read images and videos as NumPy arrays, display them, access their pixel values, and convert between color spaces."
   ]
  },
  {
   "cell_type": "markdown",
   "id": "5f8923a9-25cf-404a-902f-564fa297edf7",
   "metadata": {},
   "source": [
    "## Summary"
   ]
  },
  {
   "cell_type": "code",
   "execution_count": null,
   "id": "2a61f173-88cf-47f2-bcea-2c02a75750ad",
   "metadata": {},
   "outputs": [],
   "source": [
    "In this tutorial, you familiarize yourself with the OpenCV library and what makes it important.\n",
    "\n",
    "Specifically, you learned:\n",
    "\n",
    "- What is the OpenCV library.\n",
    "- What is it used for, and who is using it.\n",
    "- How to install and import OpenCV in Python. "
   ]
  }
 ],
 "metadata": {
  "kernelspec": {
   "display_name": "Python [conda env:base] *",
   "language": "python",
   "name": "conda-base-py"
  },
  "language_info": {
   "codemirror_mode": {
    "name": "ipython",
    "version": 3
   },
   "file_extension": ".py",
   "mimetype": "text/x-python",
   "name": "python",
   "nbconvert_exporter": "python",
   "pygments_lexer": "ipython3",
   "version": "3.12.7"
  }
 },
 "nbformat": 4,
 "nbformat_minor": 5
}
