{
 "cells": [
  {
   "cell_type": "markdown",
   "id": "3af80d0d-38f7-4ad9-844f-8998d6101b07",
   "metadata": {},
   "source": [
    "# Why Use Ensemble Learning?"
   ]
  },
  {
   "cell_type": "markdown",
   "id": "2310f582-bab4-4bbf-9c31-d86b4880d0de",
   "metadata": {},
   "source": [
    "Ensembles are predictive models that combine predictions from two or more other models.\n",
    "\n",
    "Ensemble learning methods are popular and the go-to technique when the best performance on a predictive modeling project is the most important outcome.\n",
    "\n",
    "Nevertheless, they are not always the most appropriate technique to use and beginners the field of applied machine learning have the expectation that ensembles or a specific ensemble method are always the best method to use.\n",
    "\n",
    "Ensembles offer two specific benefits on a predictive modeling project, and it is important to know what these benefits are and how to measure them to ensure that using an ensemble is the right decision on your project.\n",
    "\n",
    "In this tutorial, you will discover the benefits of using ensemble methods for machine learning.\n",
    "\n",
    "After reading this tutorial, you will know:\n",
    "\n",
    "- A minimum benefit of using ensembles is to reduce the spread in the average skill of a predictive model.\n",
    "- A key benefit of using ensembles is to improve the average prediction performance over any contributing member in the ensemble.\n",
    "- The mechanism for improved performance with ensembles is often the reduction in the variance component of prediction errors made by the contributing models."
   ]
  },
  {
   "cell_type": "markdown",
   "id": "4e8b53bb-fe32-40ba-94c4-663f4ac0dfaf",
   "metadata": {},
   "source": [
    "## Tutorial Overview"
   ]
  },
  {
   "cell_type": "markdown",
   "id": "4dcc1d04-7a0b-4222-ab27-57ffbadf580b",
   "metadata": {},
   "source": [
    "This tutorial is divided into four parts; they are:\n",
    "\n",
    "1. Ensemble Learning\n",
    "2. Use Ensembles to Improve Robustness\n",
    "3. Bias, Variance, and Ensembles\n",
    "4. Use Ensembles to Improve Performance"
   ]
  },
  {
   "cell_type": "markdown",
   "id": "ce3ef91f-41ee-445c-b66f-a4fd9b351903",
   "metadata": {},
   "source": [
    "## Ensemble Learning"
   ]
  },
  {
   "cell_type": "markdown",
   "id": "3a28dff6-6795-441d-bd65-0cf8821773d0",
   "metadata": {},
   "source": [
    "An ensemble is a machine learning model that combines the predictions from two or more models.\n",
    "\n",
    "The models that contribute to the ensemble, referred to as ensemble members, may be the same type or different types and may or may not be trained on the same training data.\n",
    "\n",
    "The predictions made by the ensemble members may be combined using statistics, such as the mode or mean, or by more sophisticated methods that learn how much to trust each member and under what conditions.\n",
    "\n",
    "The study of ensemble methods really picked up in the 1990s, and that decade was when papers on the most popular and widely used methods were published, such as core bagging, boosting, and stacking methods.\n",
    "\n",
    "In the late 2000s, adoption of ensembles picked up due in part to their huge success in machine learning competitions, such as the Netflix prize and later competitions on Kaggle.\n",
    "\n",
    "Ensemble methods greatly increase computational cost and complexity. This increase comes from the expertise and time required to train and maintain multiple models rather than a single model. This forces the question:\n",
    "\n",
    "- **Why should we consider using an ensemble?**\n",
    "\n",
    "There are two main reasons to use an ensemble over a single model, and they are related; they are:\n",
    "\n",
    "1. **Performance**: An ensemble can make better predictions and achieve better performance than any single contributing model.\n",
    "2. **Robustness**: An ensemble reduces the spread or dispersion of the predictions and model performance.\n",
    "\n",
    "Ensembles are used to achieve better predictive performance on a predictive modeling problem than a single predictive model. The way this is achieved can be understood as the model reducing the variance component of the prediction error by adding bias (i.e. in the context of the bias-variance trade-off).\n",
    "\n",
    "There is another important and less discussed benefit of ensemble methods is improved robustness or reliability in the average performance of a model.\n",
    "\n",
    "These are both important concerns on a machine learning project and sometimes we may prefer one or both properties from a model.\n",
    "\n",
    "Let’s take a closer look at these two properties in order to better understand the benefits of using ensemble learning on a project."
   ]
  },
  {
   "cell_type": "markdown",
   "id": "ca13765a-4b1e-4497-89a1-736b6b28d314",
   "metadata": {},
   "source": [
    "## Use Ensembles to Improve Robustness"
   ]
  },
  {
   "cell_type": "markdown",
   "id": "7fda1214-4e87-43fa-8d35-5383aeb1484b",
   "metadata": {},
   "source": [
    "On a predictive modeling project, we often evaluate multiple models or modeling pipelines and choose one that performs well or best as our final model.\n",
    "\n",
    "The algorithm or pipeline is then fit on all available data and used to make predictions on new data.\n",
    "\n",
    "We have an idea of how well the model will perform on average from our test harness, typically estimated using repeated k-fold cross-validation as a gold standard. The problem is, average performance might not be sufficient.\n",
    "\n",
    "An average accuracy or error of a model is a summary of the expected performance, when in fact, some models performed better and some models performed worse on different subsets of the data.\n",
    "\n",
    "The standard deviation is the average difference between an observation and the mean and summarizes the dispersion or spread of data. For an accuracy or error measure for a model, it can give you an idea of the spread of the model’s behavior.\n",
    "\n",
    "Looking at the minimum and maximum model performance scores will give you an idea of the worst and best performance you might expect from the model, and this might not be acceptable for your application.\n",
    "\n",
    "The simplest ensemble is to fit the model multiple times on the training datasets and combine the predictions using a summary statistic, such as the mean for regression or the mode for classification. Importantly, each model needs to be slightly different due to the stochastic learning algorithm, difference in the composition of the training dataset, or differences in the model itself.\n",
    "\n",
    "This will reduce the spread in the predictions made by the model. The mean performance will probably be about the same, although the worst- and best-case performance will be brought closer to the mean performance.\n",
    "\n",
    "In effect, it smooths out the expected performance of the model.\n",
    "\n",
    "We can refer to this as the “*robustness*” in the expected performance of the model and is a minimum benefit of using an ensemble method.\n",
    "\n",
    "An ensemble may or may not improve modeling performance over any single contributing member, discussed more further, but at minimum, it should reduce the spread in the average performance of the model."
   ]
  },
  {
   "cell_type": "markdown",
   "id": "5a9b85f5-7c94-4811-99ba-fd66c8ef1683",
   "metadata": {},
   "source": [
    "## Bias, Variance, and Ensembles"
   ]
  },
  {
   "cell_type": "markdown",
   "id": "f460d918-beb3-4438-b053-2e16089f27cc",
   "metadata": {},
   "source": [
    "Machine learning models for classification and regression learn a mapping function from inputs to outputs.\n",
    "\n",
    "This mapping is learned from examples from the problem domain, the training dataset, and is evaluated on data not used during training, the test dataset.\n",
    "\n",
    "The errors made by a machine learning model are often described in terms of two properties: the **bias** and the **variance**.\n",
    "\n",
    "The bias is a measure of how close the model can capture the mapping function between inputs and outputs. It captures the rigidity of the model: the strength of the assumption the model has about the functional form of the mapping between inputs and outputs.\n",
    "\n",
    "The variance of the model is the amount the performance of the model changes when it is fit on different training data. It captures the impact of the specifics of the data has on the model.\n",
    "\n",
    "The bias and the variance of a model’s performance are connected.\n",
    "\n",
    "Ideally, we would prefer a model with low bias and low variance, although in practice, this is very challenging. In fact, this could be described as the goal of applied machine learning for a given predictive modeling problem.\n",
    "\n",
    "Reducing the bias can often easily be achieved by increasing the variance. Conversely, reducing the variance can easily be achieved by increasing the bias.\n",
    "\n",
    "Some models naturally have a high bias or a high variance, which can be often relaxed or increased using hyperparameters that change the learning behavior of the algorithm.\n",
    "\n",
    "Ensembles provide a way to reduce the variance of the predictions; that is the amount of error in the predictions made that can be attributed to “*variance*.”\n",
    "\n",
    "This is not always the case, but when it is, this reduction in variance, in turn, leads to improved predictive performance.\n",
    "\n",
    "Using ensembles to reduce the variance properties of prediction errors leads to the key benefit of using ensembles in the first place: to improve predictive performance."
   ]
  },
  {
   "cell_type": "markdown",
   "id": "bfe396ba-cec8-464c-a56e-4bbc7857c003",
   "metadata": {},
   "source": [
    "## Use Ensembles to Improve Performance"
   ]
  },
  {
   "cell_type": "markdown",
   "id": "22bfb758-30f0-4f19-b304-d8236b5cc082",
   "metadata": {},
   "source": [
    "Reducing the variance element of the prediction error improves predictive performance.\n",
    "\n",
    "We explicitly use ensemble learning to seek better predictive performance, such as lower error on regression or high accuracy for classification.\n",
    "\n",
    "This is the **primary use of ensemble learning methods** and the benefit demonstrated through the use of ensembles by the majority of winners of machine learning competitions, such as the Netflix prize and competitions on Kaggle.\n",
    "\n",
    "This benefit has also been demonstrated with academic competitions, such as top solutions for the famous ImageNet dataset in computer vision.\n",
    "\n",
    "When used in this way, an ensemble should only be adopted if it performs better on average than any contributing member of the ensemble. If this is not the case, then the contributing member that performs better should be used instead.\n",
    "\n",
    "Consider the distribution of expected scores calculated by a model on a test harness, such as repeated k-fold cross-validation, as we did above when considering the “robustness” offered by an ensemble. An ensemble that reduces the variance in the error, in effect, will shift the distribution rather than simply shrink the spread of the distribution.\n",
    "\n",
    "This can result in a better average performance as compared to any single model.\n",
    "\n",
    "This is not always the case, and having this expectation is a common mistake made by beginners.\n",
    "\n",
    "It is possible, and even common, for the performance of an ensemble to perform no better than the best-performing member of the ensemble. This can happen if the ensemble has one top-performing model and the other members do not offer any benefit or the ensemble is not able to harness their contribution effectively.\n",
    "\n",
    "It is also possible for an ensemble to perform worse than the best-performing member of the ensemble. This too is common any typically involves one top-performing model whose predictions are made worse by one or more poor-performing other models and the ensemble is not able to harness their contributions effectively.\n",
    "\n",
    "As such, it is important to test a suite of ensemble methods and tune their behavior, just as we do for any individual machine learning model."
   ]
  },
  {
   "cell_type": "markdown",
   "id": "b4493d07-bd76-4543-a4b3-79ac07237e02",
   "metadata": {},
   "source": [
    "## Summary"
   ]
  },
  {
   "cell_type": "markdown",
   "id": "cb9eb790-d67d-4bd6-90a5-b733f5d80b63",
   "metadata": {},
   "source": [
    "In this post, you discovered the benefits of using ensemble methods for machine learning.\n",
    "\n",
    "Specifically, you learned:\n",
    "\n",
    "- A minimum benefit of using ensembles is to reduce the spread in the average skill of a predictive model.\n",
    "- A key benefit of using ensembles is to improve the average prediction performance over any contributing member in the ensemble.\n",
    "- The mechanism for improved performance with ensembles is often the reduction in the variance component of prediction errors made by the contributing models."
   ]
  }
 ],
 "metadata": {
  "kernelspec": {
   "display_name": "Python [conda env:base] *",
   "language": "python",
   "name": "conda-base-py"
  },
  "language_info": {
   "codemirror_mode": {
    "name": "ipython",
    "version": 3
   },
   "file_extension": ".py",
   "mimetype": "text/x-python",
   "name": "python",
   "nbconvert_exporter": "python",
   "pygments_lexer": "ipython3",
   "version": "3.12.7"
  }
 },
 "nbformat": 4,
 "nbformat_minor": 5
}
