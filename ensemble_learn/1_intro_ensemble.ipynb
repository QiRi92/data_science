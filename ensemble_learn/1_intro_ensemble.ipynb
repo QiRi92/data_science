{
 "cells": [
  {
   "cell_type": "markdown",
   "id": "3c7d394d-fa9e-45a7-86e8-ef1c7e4c988f",
   "metadata": {},
   "source": [
    "# A Gentle Introduction to Ensemble Learning"
   ]
  },
  {
   "cell_type": "markdown",
   "id": "a66bf66e-7002-4a48-bf7e-5f4d69e4f432",
   "metadata": {},
   "source": [
    "Many decisions we make in life are based on the opinions of multiple other people.\n",
    "\n",
    "This includes choosing a book to read based on reviews, choosing a course of action based on the advice of multiple medical doctors, and determining guilt.\n",
    "\n",
    "Often, decision making by a group of individuals results in a better outcome than a decision made by any one member of the group. This is generally referred to as the wisdom of the crowd.\n",
    "\n",
    "We can achieve a similar result by combining the predictions of multiple machine learning models for regression and classification predictive modeling problems. This is referred to generally as ensemble machine learning, or simply **ensemble learning**.\n",
    "\n",
    "In this post, you will discover a gentle introduction to ensemble learning.\n",
    "\n",
    "After reading this post, you will know:\n",
    "\n",
    "- Many decisions we make involve the opinions or votes of other people.\n",
    "- The ability of groups of people to make better decisions than individuals is called the wisdom of the crowd.\n",
    "- Ensemble machine learning involves combining predictions from multiple skillful models."
   ]
  },
  {
   "cell_type": "markdown",
   "id": "47af4aad-2dcb-4759-9eb6-76fa4f277942",
   "metadata": {},
   "source": [
    "## Overview"
   ]
  },
  {
   "cell_type": "markdown",
   "id": "04ebcb87-29c2-48be-9d86-7d28e9948ddd",
   "metadata": {},
   "source": [
    "This tutorial is divided into three parts; they are:\n",
    "\n",
    "1. Making Important Decisions\n",
    "2. Wisdom of Crowds\n",
    "3. Ensemble Machine Learning"
   ]
  },
  {
   "cell_type": "markdown",
   "id": "03fcca76-8dcb-48b0-bffb-c3506785d66e",
   "metadata": {},
   "source": [
    "## Making Important Decisions"
   ]
  },
  {
   "cell_type": "markdown",
   "id": "5cb3537a-4ecf-423c-bfee-1d03ca057410",
   "metadata": {},
   "source": [
    "Consider important decisions you make in your life.\n",
    "\n",
    "For example:\n",
    "\n",
    "- What book to purchase and read next.\n",
    "- What university to attend.\n",
    "\n",
    "Candidate books are those that sound interesting, but the book we purchase might have the most favorable reviews. Candidate universities are those that offer the courses we’re interested in, but we might choose one based on the feedback from friends and acquaintances that have first-hand experience.\n",
    "\n",
    "We might trust the reviews and star ratings because each individual that contributed a review was (hopefully) unaffiliated with the book and independent of the other people leaving a review. When this is not the case, trust in the outcome is questionable and trust in the system is shaken, which is why Amazon works hard to delete fake reviews for books.\n",
    "\n",
    "Also, consider important decisions we make more personally.\n",
    "\n",
    "For example, medical treatment for an illness.\n",
    "\n",
    "We take advice from an expert, but we seek a second, third, and even more opinions to confirm we are taking the best course of action.\n",
    "\n",
    "The advice from the second and third opinion may or may not match the first opinion, but we weigh it heavily because it is provided dispassionately, objectively, and independently. If the doctors colluded on their opinion, then we would feel like the process of seeking a second and third opinion has failed.\n",
    "\n",
    "Finally, consider decisions we make as a society.\n",
    "\n",
    "For example:\n",
    "\n",
    "- Who should represent a geographical area in a government.\n",
    "- Whether someone is guilty of a crime.\n",
    "\n",
    "The democratic election of representatives is based (in some form) on the independent votes of citizens.\n",
    "\n",
    "An individual’s guilt of a serious crime may be determined by a jury of independent peers, often sequestered to enforce the independence of their interpretation. Cases may also be appealed at multiple levels, providing second, third, and more opinions on the outcome.\n",
    "\n",
    "These are all examples of an outcome arrived at through the combination of lower-level opinions, votes, or decisions.\n",
    "\n",
    "In each case, we can see that there are properties of the lower-level decisions that are critical for the outcome to be useful, such as a belief in their independence and that each has some validity on their own.\n",
    "\n",
    "This approach to decision making is so common, it has a name."
   ]
  },
  {
   "cell_type": "markdown",
   "id": "966267cb-27dc-43ce-a702-1e58f56f5fd4",
   "metadata": {},
   "source": [
    "## Wisdom of Crowds"
   ]
  },
  {
   "cell_type": "markdown",
   "id": "3a79dc1f-addd-4821-92ad-ab98842dc709",
   "metadata": {},
   "source": [
    "This approach to decision making when using humans that make the lower-level decisions is often referred to as the “[wisdom of the crowd](https://en.wikipedia.org/wiki/Wisdom_of_the_crowd).”\n",
    "\n",
    "It refers to the case where the opinion calculated from the aggregate of a group of people is often more accurate, useful, or correct than the opinion of any individual in the group.\n",
    "\n",
    "A famous case of this from more than 100 years ago, and often cited, is that of a contest at a fair in Plymouth, England to estimate the weight of an ox. Individuals made their guess and the person whose guess was closest to the actual weight won the meat.\n",
    "\n",
    "The statistician [Francis Galton](https://en.wikipedia.org/wiki/Francis_Galton) collected all of the guesses afterward and calculated the average of the guesses.\n",
    "\n",
    "He found that the mean of the guesses made by the contestants was very close to the actual weight. That is, taking the average value of all the numerical weights from the 800 participants was an accurate way of determining the true weight.\n",
    "\n",
    "This example is given at the beginning of [James Surowiecki’s](https://en.wikipedia.org/wiki/James_Surowiecki) 2004 book titled “[The Wisdom of Crowds](https://amzn.to/2UNOMll)” that explores the ability of groups of humans to make decisions and predictions that are often better than the members of the group.\n",
    "\n",
    "The book motivates the preference to average the guesses, votes, and opinions of groups of people when making some important decisions instead of searching for and consulting a single expert.\n",
    "\n",
    "The book goes on to highlight a number properties of any system that makes decisions based on groups of people, summarized nicely in [Lior Rokach’s](https://www.linkedin.com/in/liorrokach/) 2010 book titled “[Pattern Classification Using Ensemble Methods](https://amzn.to/2zxc0F7)” (page 22), as:\n",
    "\n",
    "- **Diversity of opinion**: Each member should have private information even if it is just an eccentric interpretation of the known facts.\n",
    "- **Independence**: Members’ opinions are not determined by the opinions of those around them.\n",
    "- **Decentralization**: Members are able to specialize and draw conclusions based on local knowledge.\n",
    "- **Aggregation**: Some mechanism exists for turning private judgments into a collective decision.\n",
    "\n",
    "As a decision-making system, the approach is not always the most effective (e.g. stock market bubbles, fads, etc.), but can be effective in a range of different domains where the outcomes are important.\n",
    "\n",
    "We can use this approach to decision making in applied machine learning."
   ]
  },
  {
   "cell_type": "markdown",
   "id": "f48c3aa4-3c9f-4c58-9554-1a556887dd6b",
   "metadata": {},
   "source": [
    "## Ensemble Machine Learning"
   ]
  },
  {
   "cell_type": "markdown",
   "id": "d094e6a3-f67e-40e8-b3c6-e45cf15ecca4",
   "metadata": {},
   "source": [
    "Applied machine learning often involves fitting and evaluating models on a dataset.\n",
    "\n",
    "Given that we cannot know which model will perform best on the dataset beforehand, this may involve a lot of trial and error until we find a model that performs well or best for our project.\n",
    "\n",
    "This is akin to making a decision using a single expert. Perhaps the best expert we can find.\n",
    "\n",
    "A complementary approach is to prepare multiple different models, then combine their predictions. This is called an ensemble machine learning model, or simply an ensemble, and the process of finding a well-performing ensemble model is referred to as “**ensemble learning**“.\n",
    "\n",
    "This is akin to making a decision using the opinions from multiple experts.\n",
    "\n",
    "The most common type of ensemble involves training multiple versions of the same machine learning model in a way that ensures that each ensemble member is different (e.g. decision trees fit on different subsamples of the training dataset), then combining the predictions using averaging or voting.\n",
    "\n",
    "A less common, although just as effective, approach involves training different algorithms on the same data (e.g. a decision tree, a support vector machine, and a neural network) and combining their predictions.\n",
    "\n",
    "Like combining the opinions of humans in a crowd, the effectiveness of the ensemble relies on each model having some skill (better than random) and some independence from the other models. This latter point is often interpreted as meaning that the model is skillful in a different way from other models in the ensemble.\n",
    "\n",
    "The hope is that the ensemble results in a better performing model than any contributing member.\n",
    "\n",
    "At worst, the ensemble limits the worst case of predictions by reducing the variance of the predictions. Model performance can vary with the training data (and the stochastic nature of the learning algorithm in some cases), resulting in better or worse performance for any specific model.\n",
    "\n",
    "An ensemble can smooth this out and ensure that predictions made are closer to the average performance of contributing members. Further, reducing the variance in predictions often results in a lift in the skill of the ensemble. This comes at the added computational cost of fitting and maintaining multiple models instead of a single model.\n",
    "\n",
    "Although ensemble predictions will have a lower variance, they are not guaranteed to have better performance than any single contributing member.\n",
    "\n",
    "Sometimes, the best performing model, e.g. the best expert, is sufficiently superior compared to other models that combining its predictions with other models can result in worse performance.\n",
    "\n",
    "As such, selecting models, even ensemble models, still requires carefully controlled experiments on a robust test harness."
   ]
  },
  {
   "cell_type": "markdown",
   "id": "9786e398-9cc7-4f85-ba73-fec91d85896c",
   "metadata": {},
   "source": [
    "## Summary"
   ]
  },
  {
   "cell_type": "markdown",
   "id": "b2b01886-d5c3-4d0f-9c5b-f7dd5d866ca4",
   "metadata": {},
   "source": [
    "In this post, you discovered a gentle introduction to ensemble learning.\n",
    "\n",
    "Specifically, you learned:\n",
    "\n",
    "- Many decisions we make involve the opinions or votes of other people.\n",
    "- The ability of groups of people to make better decisions than individuals is called the wisdom of the crowd.\n",
    "- Ensemble machine learning involves combining predictions from multiple skillful models."
   ]
  }
 ],
 "metadata": {
  "kernelspec": {
   "display_name": "Python [conda env:base] *",
   "language": "python",
   "name": "conda-base-py"
  },
  "language_info": {
   "codemirror_mode": {
    "name": "ipython",
    "version": 3
   },
   "file_extension": ".py",
   "mimetype": "text/x-python",
   "name": "python",
   "nbconvert_exporter": "python",
   "pygments_lexer": "ipython3",
   "version": "3.12.7"
  }
 },
 "nbformat": 4,
 "nbformat_minor": 5
}
