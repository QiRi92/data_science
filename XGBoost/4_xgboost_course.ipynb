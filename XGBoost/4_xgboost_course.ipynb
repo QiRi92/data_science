{
 "cells": [
  {
   "cell_type": "code",
   "execution_count": 1,
   "id": "0bff31b1-6bf0-44d7-ad19-cceeb46c05e3",
   "metadata": {},
   "outputs": [
    {
     "name": "stdout",
     "output_type": "stream",
     "text": [
      "Accuracy: 72.44%\n"
     ]
    }
   ],
   "source": [
    "# First XGBoost model for Pima Indians dataset\n",
    "from numpy import loadtxt\n",
    "from xgboost import XGBClassifier\n",
    "from sklearn.model_selection import train_test_split\n",
    "from sklearn.metrics import accuracy_score\n",
    "# load data\n",
    "dataset = loadtxt('pima-indians-diabetes.csv', delimiter=\",\")\n",
    "# split data into X and y\n",
    "X = dataset[:,0:8]\n",
    "Y = dataset[:,8]\n",
    "# split data into train and test sets\n",
    "seed = 7\n",
    "test_size = 0.33\n",
    "X_train, X_test, y_train, y_test = train_test_split(X, Y, test_size=test_size, random_state=seed)\n",
    "# fit model on training data\n",
    "model = XGBClassifier()\n",
    "model.fit(X_train, y_train)\n",
    "# make predictions for test data\n",
    "y_pred = model.predict(X_test)\n",
    "predictions = [round(value) for value in y_pred]\n",
    "# evaluate predictions\n",
    "accuracy = accuracy_score(y_test, predictions)\n",
    "print(\"Accuracy: %.2f%%\" % (accuracy * 100.0))"
   ]
  },
  {
   "cell_type": "code",
   "execution_count": 2,
   "id": "b171990d-c6da-4374-9380-cfec651df3fa",
   "metadata": {
    "scrolled": true
   },
   "outputs": [
    {
     "name": "stdout",
     "output_type": "stream",
     "text": [
      "[0]\tvalidation_0-logloss:0.63206\n",
      "[1]\tvalidation_0-logloss:0.61213\n",
      "[2]\tvalidation_0-logloss:0.59684\n",
      "[3]\tvalidation_0-logloss:0.58508\n",
      "[4]\tvalidation_0-logloss:0.57666\n",
      "[5]\tvalidation_0-logloss:0.57098\n",
      "[6]\tvalidation_0-logloss:0.56144\n",
      "[7]\tvalidation_0-logloss:0.55878\n",
      "[8]\tvalidation_0-logloss:0.55190\n",
      "[9]\tvalidation_0-logloss:0.55208\n",
      "[10]\tvalidation_0-logloss:0.54625\n",
      "[11]\tvalidation_0-logloss:0.54348\n",
      "[12]\tvalidation_0-logloss:0.54070\n",
      "[13]\tvalidation_0-logloss:0.53721\n",
      "[14]\tvalidation_0-logloss:0.53951\n",
      "[15]\tvalidation_0-logloss:0.53579\n",
      "[16]\tvalidation_0-logloss:0.54066\n",
      "[17]\tvalidation_0-logloss:0.53693\n",
      "[18]\tvalidation_0-logloss:0.53646\n",
      "[19]\tvalidation_0-logloss:0.53733\n",
      "[20]\tvalidation_0-logloss:0.53563\n",
      "[21]\tvalidation_0-logloss:0.53323\n",
      "[22]\tvalidation_0-logloss:0.53332\n",
      "[23]\tvalidation_0-logloss:0.53602\n",
      "[24]\tvalidation_0-logloss:0.53508\n",
      "[25]\tvalidation_0-logloss:0.53601\n",
      "[26]\tvalidation_0-logloss:0.53518\n",
      "[27]\tvalidation_0-logloss:0.53747\n",
      "[28]\tvalidation_0-logloss:0.53918\n",
      "[29]\tvalidation_0-logloss:0.53699\n",
      "[30]\tvalidation_0-logloss:0.53727\n",
      "[31]\tvalidation_0-logloss:0.53674\n",
      "Accuracy: 75.20%\n"
     ]
    }
   ],
   "source": [
    "from numpy import loadtxt\n",
    "from xgboost import XGBClassifier\n",
    "from sklearn.model_selection import train_test_split\n",
    "from sklearn.metrics import accuracy_score\n",
    "\n",
    "# Load dataset\n",
    "dataset = loadtxt('pima-indians-diabetes.csv', delimiter=\",\")\n",
    "X = dataset[:, 0:8]\n",
    "Y = dataset[:, 8]\n",
    "\n",
    "# Split into training and testing\n",
    "X_train_full, X_test, y_train_full, y_test = train_test_split(\n",
    "    X, Y, test_size=0.33, random_state=7)\n",
    "\n",
    "# Further split training into training and validation sets\n",
    "X_train, X_val, y_train, y_val = train_test_split(\n",
    "    X_train_full, y_train_full, test_size=0.2, random_state=42)\n",
    "\n",
    "from xgboost import XGBClassifier\n",
    "\n",
    "model = XGBClassifier(\n",
    "    n_estimators=500,\n",
    "    learning_rate=0.1,\n",
    "    verbosity=1,\n",
    "    random_state=42,\n",
    "    early_stopping_rounds=10,   # ✅ Set here\n",
    "    eval_metric=\"logloss\"       # ✅ Set here\n",
    ")\n",
    "\n",
    "model.fit(\n",
    "    X_train,\n",
    "    y_train,\n",
    "    eval_set=[(X_val, y_val)],\n",
    "    verbose=True\n",
    ")\n",
    "\n",
    "# Make predictions\n",
    "y_pred = model.predict(X_test)\n",
    "predictions = [round(value) for value in y_pred]\n",
    "\n",
    "# Evaluate accuracy\n",
    "accuracy = accuracy_score(y_test, predictions)\n",
    "print(\"Accuracy: %.2f%%\" % (accuracy * 100.0))"
   ]
  },
  {
   "cell_type": "code",
   "execution_count": 4,
   "id": "4c1e426d-b318-41bb-b323-1fbdf04c5b99",
   "metadata": {},
   "outputs": [
    {
     "name": "stdout",
     "output_type": "stream",
     "text": [
      "[0.08478499 0.2675748  0.07075439 0.06080931 0.09268497 0.19996065\n",
      " 0.10000587 0.12342507]\n"
     ]
    }
   ],
   "source": [
    "print(model.feature_importances_)"
   ]
  },
  {
   "cell_type": "code",
   "execution_count": 6,
   "id": "97297d6c-41a6-4f25-9558-f8f446fdcf3c",
   "metadata": {},
   "outputs": [
    {
     "data": {
      "image/png": "[encoded data removed]",
      "text/plain": [
       "<Figure size 640x480 with 1 Axes>"
      ]
     },
     "metadata": {},
     "output_type": "display_data"
    }
   ],
   "source": [
    "# plot feature importance using built-in function\n",
    "from numpy import loadtxt\n",
    "from xgboost import XGBClassifier\n",
    "from xgboost import plot_importance\n",
    "from matplotlib import pyplot\n",
    "# load data\n",
    "dataset = loadtxt('pima-indians-diabetes.csv', delimiter=\",\")\n",
    "# split data into X and y\n",
    "X = dataset[:,0:8]\n",
    "y = dataset[:,8]\n",
    "# fit model on training data\n",
    "model = XGBClassifier()\n",
    "model.fit(X, y)\n",
    "# plot feature importance\n",
    "plot_importance(model)\n",
    "pyplot.show()"
   ]
  },
  {
   "cell_type": "code",
   "execution_count": 9,
   "id": "bc0067a0-8703-4816-9780-d9c48ac494d0",
   "metadata": {},
   "outputs": [
    {
     "name": "stdout",
     "output_type": "stream",
     "text": [
      "Best: -0.517018 using {'learning_rate': 0.01}\n",
      "-0.643877 (0.002168) with: {'learning_rate': 0.0001}\n",
      "-0.620317 (0.006926) with: {'learning_rate': 0.001}\n",
      "-0.517018 (0.036275) with: {'learning_rate': 0.01}\n",
      "-0.557111 (0.115078) with: {'learning_rate': 0.1}\n",
      "-0.662438 (0.149560) with: {'learning_rate': 0.2}\n",
      "-0.750694 (0.199802) with: {'learning_rate': 0.3}\n"
     ]
    }
   ],
   "source": [
    "# Tune learning_rate\n",
    "from numpy import loadtxt\n",
    "from xgboost import XGBClassifier\n",
    "from sklearn.model_selection import GridSearchCV\n",
    "from sklearn.model_selection import StratifiedKFold\n",
    "# load data\n",
    "dataset = loadtxt('pima-indians-diabetes.csv', delimiter=\",\")\n",
    "# split data into X and y\n",
    "X = dataset[:,0:8]\n",
    "Y = dataset[:,8]\n",
    "# grid search\n",
    "model = XGBClassifier()\n",
    "learning_rate = [0.0001, 0.001, 0.01, 0.1, 0.2, 0.3]\n",
    "param_grid = dict(learning_rate=learning_rate)\n",
    "kfold = StratifiedKFold(n_splits=10, shuffle=True, random_state=7)\n",
    "grid_search = GridSearchCV(model, param_grid, scoring=\"neg_log_loss\", n_jobs=-1, cv=kfold)\n",
    "grid_result = grid_search.fit(X, Y)\n",
    "# summarize results\n",
    "print(\"Best: %f using %s\" % (grid_result.best_score_, grid_result.best_params_))\n",
    "means = grid_result.cv_results_['mean_test_score']\n",
    "stds = grid_result.cv_results_['std_test_score']\n",
    "params = grid_result.cv_results_['params']\n",
    "for mean, stdev, param in zip(means, stds, params):\n",
    "\tprint(\"%f (%f) with: %r\" % (mean, stdev, param))"
   ]
  },
  {
   "cell_type": "code",
   "execution_count": null,
   "id": "32df8c8d-ad96-46b7-bb8a-4efe764cc2e2",
   "metadata": {},
   "outputs": [],
   "source": []
  }
 ],
 "metadata": {
  "kernelspec": {
   "display_name": "Python [conda env:base] *",
   "language": "python",
   "name": "conda-base-py"
  },
  "language_info": {
   "codemirror_mode": {
    "name": "ipython",
    "version": 3
   },
   "file_extension": ".py",
   "mimetype": "text/x-python",
   "name": "python",
   "nbconvert_exporter": "python",
   "pygments_lexer": "ipython3",
   "version": "3.12.7"
  }
 },
 "nbformat": 4,
 "nbformat_minor": 5
}
