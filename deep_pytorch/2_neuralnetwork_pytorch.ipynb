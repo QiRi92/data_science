{
 "cells": [
  {
   "cell_type": "markdown",
   "id": "f8e45639-4033-4d26-9a3c-033a033aa000",
   "metadata": {},
   "source": [
    "# Develop Your First Neural Network with PyTorch, Step by Step"
   ]
  },
  {
   "cell_type": "markdown",
   "id": "c48994a5-4897-4525-b160-f271baa914cc",
   "metadata": {},
   "source": [
    "PyTorch is a powerful Python library for building deep learning models. It provides everything you need to define and train a neural network and use it for inference. You don’t need to write much code to complete all this. In this pose, you will discover how to create your first deep learning neural network model in Python using PyTorch. After completing this post, you will know:\n",
    "\n",
    "- How to load a CSV dataset and prepare it for use with PyTorch\n",
    "- How to define a Multilayer Perceptron model in PyToch\n",
    "- How to train and evaluate a PyToch model on a validation dataset"
   ]
  },
  {
   "cell_type": "markdown",
   "id": "63f55c2a-f91a-4074-851f-6a8555e68707",
   "metadata": {},
   "source": [
    "## Overview"
   ]
  },
  {
   "cell_type": "markdown",
   "id": "6f499f41-2112-4edf-aff4-466551925d7b",
   "metadata": {},
   "source": [
    "There is not a lot of code required. You will go over it slowly so that you will know how to create your own models in the future. The steps you will learn in this post are as follows:\n",
    "\n",
    "- Load Data\n",
    "- Define PyToch Model\n",
    "- Define Loss Function and Optimizers\n",
    "- Run a Training Loop\n",
    "- Evaluate the Model\n",
    "- Make Predictions"
   ]
  },
  {
   "cell_type": "markdown",
   "id": "16c0c422-09a0-4dd2-9397-9c88d4bc5436",
   "metadata": {},
   "source": [
    "## Load Data"
   ]
  },
  {
   "cell_type": "markdown",
   "id": "b5b63806-37d5-4b2b-9028-181c2c999c5f",
   "metadata": {},
   "source": [
    "The first step is to define the functions and classes you intend to use in this post. You will use the NumPy library to load your dataset and the  PyTorch library for deep learning models.\n",
    "\n",
    "The imports required are listed below:"
   ]
  },
  {
   "cell_type": "code",
   "execution_count": 1,
   "id": "af9789d4-d7e5-43bf-b6e8-439f447bae2e",
   "metadata": {},
   "outputs": [],
   "source": [
    "import numpy as np\n",
    "import torch\n",
    "import torch.nn as nn\n",
    "import torch.optim as optim"
   ]
  },
  {
   "cell_type": "markdown",
   "id": "5dd7920d-8883-4f3b-8dd2-e896768ae1a7",
   "metadata": {},
   "source": [
    "You can now load your dataset.\n",
    "\n",
    "In this post, you will use the Pima Indians onset of diabetes dataset. This has been a standard machine learning dataset since the early days of the field. It describes patient medical record data for Pima Indians and whether they had an onset of diabetes within five years.\n",
    "\n",
    "It is a binary classification problem (onset of diabetes as 1 or not as 0). All the input variables that describe each patient are transformed and numerical. This makes it easy to use directly with neural networks that expect numerical input and output values and is an ideal choice for our first neural network in PyTorch.\n",
    "\n",
    "You can also download it here.\n",
    "\n",
    "Download the dataset and place it in your local working directory, the same location as your Python file. Save it with the filename <code>pima-indians-diabetes.csv</code>. Take a look inside the file; you should see rows of data like the following:"
   ]
  },
  {
   "cell_type": "code",
   "execution_count": null,
   "id": "593f1789-df18-4bb7-a647-0c8f0bc4b83e",
   "metadata": {},
   "outputs": [],
   "source": [
    "6,148,72,35,0,33.6,0.627,50,1\n",
    "1,85,66,29,0,26.6,0.351,31,0\n",
    "8,183,64,0,0,23.3,0.672,32,1\n",
    "1,89,66,23,94,28.1,0.167,21,0\n",
    "0,137,40,35,168,43.1,2.288,33,1\n",
    "..."
   ]
  },
  {
   "cell_type": "markdown",
   "id": "0b9e8ed5-e0da-429b-b566-a5feddd73af2",
   "metadata": {},
   "source": [
    "You can now load the file as a matrix of numbers using the NumPy function loadtxt(). There are eight input variables and one output variable (the last column). You will be learning a model to map rows of input variables ($X$) to an output variable ($y$), which is often summarized as $y=f(X)$. The variables are summarized as follows:\n",
    "\n",
    "Input Variables ($X$):\n",
    "\n",
    "1. Number of times pregnant\n",
    "2. Plasma glucose concentration at 2 hours in an oral glucose tolerance test\n",
    "3. Diastolic blood pressure (mm Hg)\n",
    "4. Triceps skin fold thickness (mm)\n",
    "5. 2-hour serum insulin (μIU/ml)\n",
    "6. Body mass index (weight in kg/(height in m)2)\n",
    "7. Diabetes pedigree function\n",
    "8. Age (years)\n",
    "\n",
    "Output Variables ($y$):\n",
    "\n",
    "Class label (0 or 1)\n",
    "Once the CSV file is loaded into memory, you can split the columns of data into input and output variables.\n",
    "\n",
    "The data will be stored in a 2D array where the first dimension is rows and the second dimension is columns, e.g., (rows, columns). You can split the array into two arrays by selecting subsets of columns using the standard NumPy slice operator “:“. You can select the first eight columns from index 0 to index 7 via the slice 0:8. You can then select the output column (the 9th variable) via index 8."
   ]
  },
  {
   "cell_type": "code",
   "execution_count": null,
   "id": "a79c6ee1-eaee-4bc8-ba8e-36f1f991e267",
   "metadata": {},
   "outputs": [],
   "source": [
    "...\n",
    "\n",
    "# load the dataset, split into input (X) and output (y) variables\n",
    "dataset = np.loadtxt('pima-indians-diabetes.csv', delimiter=',')\n",
    "X = dataset[:,0:8]\n",
    "y = dataset[:,8]"
   ]
  },
  {
   "cell_type": "markdown",
   "id": "6d084025-cc2d-4588-b045-fc1ce7fde038",
   "metadata": {},
   "source": [
    "But these data should be converted to PyTorch tensors first. One reason is that PyTorch usually operates in a 32-bit floating point while NumPy, by default, uses a 64-bit floating point. Mix-and-match is not allowed in most operations. Converting to PyTorch tensors can avoid the implicit conversion that may cause problems. You can also take this chance to correct the shape to fit what PyTorch would expect, e.g., prefer $nX1$ matrix over $n$-vectors.\n",
    "\n",
    "To convert, create a tensor out of NumPy arrays:"
   ]
  },
  {
   "cell_type": "code",
   "execution_count": null,
   "id": "5eb03cff-0f98-44c8-bef0-078f605cba8a",
   "metadata": {},
   "outputs": [],
   "source": [
    "X = torch.tensor(X, dtype=torch.float32)\n",
    "y = torch.tensor(y, dtype=torch.float32).reshape(-1, 1)"
   ]
  },
  {
   "cell_type": "markdown",
   "id": "8b53c805-852d-40bf-a0cb-42c129d1740d",
   "metadata": {},
   "source": [
    "You are now ready to define your neural network model."
   ]
  },
  {
   "cell_type": "markdown",
   "id": "e040c115-4453-4df6-8711-35f18b7f8e77",
   "metadata": {},
   "source": [
    "## Define the Model"
   ]
  },
  {
   "cell_type": "markdown",
   "id": "68389ab6-b69d-46be-a62a-4b52a07b4db8",
   "metadata": {},
   "source": [
    "Indeed, there are two ways to define a model in PyTorch. The goal is to make it like a function that takes an input and returns an output.\n",
    "\n",
    "A model can be defined as a sequence of layers. You create a <code>Sequential</code> model with the layers listed out. The first thing you need to do to get this right is to ensure the first layer has the correct number of input features. In this example, you can specify the input dimension  8 for the eight input variables as one vector.\n",
    "\n",
    "The other parameters for a layer or how many layers you need for a model is not an easy question. You may use heuristics to help you design the model, or you can refer to other people’s designs in dealing with a similar problem. Often, the best neural network structure is found through a process of trial-and-error experimentation. Generally, you need a network large enough to capture the structure of the problem but small enough to make it fast. In this example, let’s use a fully-connected network structure with three layers.\n",
    "\n",
    "Fully connected layers or dense layers are defined using the <code>Linear</code> class in PyTorch. It simply means an operation similar to matrix multiplication. You can specify the number of inputs as the first argument and the number of outputs as the second argument. The number of outputs is sometimes called the number of neurons or number of nodes in the layer.\n",
    "\n",
    "You also need an activation function <strong>after</strong> the layer. If not provided, you just take the output of the matrix multiplication to the next step, or sometimes you call it using linear activation, hence the name of the layer.\n",
    "\n",
    "In this example, you will use the rectified linear unit activation function, referred to as ReLU, on the first two layers and the sigmoid function in the output layer.\n",
    "\n",
    "A sigmoid on the output layer ensures the output is between 0 and 1, which is easy to map to either a probability of class 1 or snap to a hard classification of either class by a cut-off threshold of 0.5. In the past, you might have used sigmoid and tanh activation functions for all layers, but it turns out that sigmoid activation can lead to the problem of vanishing gradient in deep neural networks, and ReLU activation is found to provide better performance in terms of both speed and accuracy.\n",
    "\n",
    "You can piece it all together by adding each layer such that:\n",
    "\n",
    "- The model expects rows of data with 8 variables (the first argument at the first layer set to 8)\n",
    "- The first hidden layer has 12 neurons, followed by a ReLU activation function\n",
    "- The second hidden layer has 8 neurons, followed by another ReLU activation function\n",
    "- The output layer has one neuron, followed by a sigmoid activation function"
   ]
  },
  {
   "cell_type": "code",
   "execution_count": null,
   "id": "20c8bc91-1ac5-4ef5-9662-a785531ecd14",
   "metadata": {},
   "outputs": [],
   "source": [
    "...\n",
    "\n",
    "model = nn.Sequential(\n",
    "    nn.Linear(8, 12),\n",
    "    nn.ReLU(),\n",
    "    nn.Linear(12, 8),\n",
    "    nn.ReLU(),\n",
    "    nn.Linear(8, 1),\n",
    "    nn.Sigmoid()"
   ]
  },
  {
   "cell_type": "markdown",
   "id": "40c085e1-9a77-474e-9625-e7b10b353ad3",
   "metadata": {},
   "source": [
    "You can check the model by printing it out as follows:"
   ]
  },
  {
   "cell_type": "code",
   "execution_count": null,
   "id": "2febf5f9-3fbd-4a49-95c4-fe753265f324",
   "metadata": {},
   "outputs": [],
   "source": [
    "print(model)"
   ]
  },
  {
   "cell_type": "markdown",
   "id": "7f116caf-da24-456d-b71c-3b9a884ad2cc",
   "metadata": {},
   "source": [
    "You will see:"
   ]
  },
  {
   "cell_type": "code",
   "execution_count": null,
   "id": "0201f2fb-81df-4fd7-8a67-e6b76104a435",
   "metadata": {},
   "outputs": [],
   "source": [
    "Sequential(\n",
    "  (0): Linear(in_features=8, out_features=12, bias=True)\n",
    "  (1): ReLU()\n",
    "  (2): Linear(in_features=12, out_features=8, bias=True)\n",
    "  (3): ReLU()\n",
    "  (4): Linear(in_features=8, out_features=1, bias=True)\n",
    "  (5): Sigmoid()\n",
    ")"
   ]
  },
  {
   "cell_type": "markdown",
   "id": "cb22d308-1d0a-4eb7-8d2e-757e92c994b4",
   "metadata": {},
   "source": [
    "You are free to change the design and see if you get a better or worse result than the subsequent part of this post.\n",
    "\n",
    "But note that, in PyTorch, there is a more verbose way of creating a model. The model above can be created as a Python <code>class</code> inherited from the <code>nn.Module</code>:"
   ]
  },
  {
   "cell_type": "code",
   "execution_count": null,
   "id": "3db0b422-4337-498c-a37c-a315e51230dd",
   "metadata": {},
   "outputs": [],
   "source": [
    "...\n",
    "\n",
    "class PimaClassifier(nn.Module):\n",
    "    def __init__(self):\n",
    "        super().__init__()\n",
    "        self.hidden1 = nn.Linear(8, 12)\n",
    "        self.act1 = nn.ReLU()\n",
    "        self.hidden2 = nn.Linear(12, 8)\n",
    "        self.act2 = nn.ReLU()\n",
    "        self.output = nn.Linear(8, 1)\n",
    "        self.act_output = nn.Sigmoid()\n",
    "\n",
    "    def forward(self, x):\n",
    "        x = self.act1(self.hidden1(x))\n",
    "        x = self.act2(self.hidden2(x))\n",
    "        x = self.act_output(self.output(x))\n",
    "        return x\n",
    "\n",
    "model = PimaClassifier()\n",
    "print(model)"
   ]
  },
  {
   "cell_type": "markdown",
   "id": "530fb3d5-814c-43e0-98d1-d5be50ac1b13",
   "metadata": {},
   "source": [
    "In this case, the model printed will be:"
   ]
  },
  {
   "cell_type": "code",
   "execution_count": null,
   "id": "fadef75f-b2da-406b-b1e0-f384fd0cf68b",
   "metadata": {},
   "outputs": [],
   "source": [
    "PimaClassifier(\n",
    "  (hidden1): Linear(in_features=8, out_features=12, bias=True)\n",
    "  (act1): ReLU()\n",
    "  (hidden2): Linear(in_features=12, out_features=8, bias=True)\n",
    "  (act2): ReLU()\n",
    "  (output): Linear(in_features=8, out_features=1, bias=True)\n",
    "  (act_output): Sigmoid()\n",
    ")"
   ]
  },
  {
   "cell_type": "markdown",
   "id": "05afb868-ad3e-4669-bef1-cdad1ae49935",
   "metadata": {},
   "source": [
    "In this approach, a class needs to have all the layers defined in the constructor because you need to prepare all its components when it is created, but the input is not yet provided. Note that you also need to call the parent class’s constructor (the line <code>super().__init__()</code>) to bootstrap your model. You also need to define a <code>forward()</code> function in the class to tell, if an input tensor x is provided, how you produce the output tensor in return.\n",
    "\n",
    "You can see from the output above that the model remembers how you call each layer."
   ]
  },
  {
   "cell_type": "markdown",
   "id": "010eb6c8-7ba4-4e04-9315-bb6b917c3940",
   "metadata": {},
   "source": [
    "## Preparation for Training"
   ]
  },
  {
   "cell_type": "markdown",
   "id": "39abb7b2-6060-486c-8f25-b65de8ea2bbc",
   "metadata": {},
   "source": [
    "A defined model is ready for training, but you need to specify what the goal of the training is. In this example, the data has the input features $X$ and the output label $y$. You want the neural network model to produce an output that is as close to $y$ as possible. Training a network means finding the best set of weights to map inputs to outputs in your dataset. The loss function is the metric to measure the prediction’s distance to $y$. In this example, you should use binary cross entropy because it is a binary classification problem.\n",
    "\n",
    "Once you decide on the loss function, you also need an optimizer. The optimizer is the algorithm you use to adjust the model weights progressively to produce a better output. There are many optimizers to choose from, and in this example, Adam is used. This popular version of gradient descent can automatically tune itself and gives good results in a wide range of problems."
   ]
  },
  {
   "cell_type": "code",
   "execution_count": null,
   "id": "18b24667-3be0-4ae3-a069-c9b6fb130507",
   "metadata": {},
   "outputs": [],
   "source": [
    "loss_fn = nn.BCELoss()  # binary cross entropy\n",
    "optimizer = optim.Adam(model.parameters(), lr=0.001)"
   ]
  },
  {
   "cell_type": "markdown",
   "id": "994b23b0-16c9-480c-98d0-6c05d9955cd5",
   "metadata": {},
   "source": [
    "The optimizer usually has some configuration parameters. Most notably, the learning rate <code>lr</code>. But all optimizers need to know what to optimize. Therefore. you pass on <code>model.parameters()</code>, which is a generator of all parameters from the model you created."
   ]
  },
  {
   "cell_type": "markdown",
   "id": "406ffa5a-46f1-4579-a29e-dc0e615cbbda",
   "metadata": {},
   "source": [
    "## Training a Model"
   ]
  },
  {
   "cell_type": "markdown",
   "id": "366e8422-0d27-4d44-8134-03e3aaf75c7f",
   "metadata": {},
   "source": [
    "You have defined your model, the loss metric, and the optimizer. It is ready for training by executing the model on some data.\n",
    "\n",
    "Training a neural network model usually takes in epochs and batches. They are idioms for how data is passed to a model:\n",
    "\n",
    "- **Epoch**: Passes the entire training dataset to the model once\n",
    "- **Batch**: One or more samples passed to the model, from which the gradient descent algorithm will be executed for one iteration\n",
    "\n",
    "Simply speaking, the entire dataset is split into batches, and you pass the batches one by one into a model using a training loop. Once you have exhausted all the batches, you have finished one epoch. Then you can start over again with the same dataset and start the second epoch, continuing to refine the model. This process repeats until you are satisfied with the model’s output.\n",
    "\n",
    "The size of a batch is limited by the system’s memory. Also, the number of computations required is linearly proportional to the size of a batch. The total number of batches over many epochs is how many times you run the gradient descent to refine the model. It is a trade-off that you want more iterations for the gradient descent so you can produce a better model, but at the same time, you do not want the training to take too long to complete. The number of epochs and the size of a batch can be chosen experimentally by trial and error.\n",
    "\n",
    "The goal of training a model is to ensure it learns a good enough mapping of input data to output classification. It will not be perfect, and errors are inevitable. Usually, you will see the amount of error reducing when in the later epochs, but it will eventually level out. This is called model convergence.\n",
    "\n",
    "The simplest way to build a training loop is to use two nested for-loops, one for epochs and one for batches:"
   ]
  },
  {
   "cell_type": "code",
   "execution_count": null,
   "id": "7a1ecf30-e515-42f0-939d-ad73be069295",
   "metadata": {},
   "outputs": [],
   "source": [
    "n_epochs = 100\n",
    "batch_size = 10\n",
    "\n",
    "for epoch in range(n_epochs):\n",
    "    for i in range(0, len(X), batch_size):\n",
    "        Xbatch = X[i:i+batch_size]\n",
    "        y_pred = model(Xbatch)\n",
    "        ybatch = y[i:i+batch_size]\n",
    "        loss = loss_fn(y_pred, ybatch)\n",
    "        optimizer.zero_grad()\n",
    "        loss.backward()\n",
    "        optimizer.step()\n",
    "    print(f'Finished epoch {epoch}, latest loss {loss}')"
   ]
  },
  {
   "cell_type": "markdown",
   "id": "5d03b712-c6c6-469a-ac86-06d044a17ab6",
   "metadata": {},
   "source": [
    "When this runs, it will print the following:"
   ]
  },
  {
   "cell_type": "code",
   "execution_count": null,
   "id": "d65d40ba-aaf9-461b-8c99-804bdcfac506",
   "metadata": {},
   "outputs": [],
   "source": [
    "Finished epoch 0, latest loss 0.6271069645881653\n",
    "Finished epoch 1, latest loss 0.6056771874427795\n",
    "Finished epoch 2, latest loss 0.5916517972946167\n",
    "Finished epoch 3, latest loss 0.5822567939758301\n",
    "Finished epoch 4, latest loss 0.5682642459869385\n",
    "Finished epoch 5, latest loss 0.5640913248062134\n",
    "..."
   ]
  },
  {
   "cell_type": "markdown",
   "id": "751b7221-df82-495b-878b-b950b4dfabe9",
   "metadata": {},
   "source": [
    "## Evaluate the Model"
   ]
  },
  {
   "cell_type": "markdown",
   "id": "ef889974-1b8d-4ce2-b424-117bf6e2988e",
   "metadata": {},
   "source": [
    "You have trained our neural network on the entire dataset, and you can evaluate the performance of the network on the same dataset. This will only give you an idea of how well you have modeled the dataset (e.g., train accuracy) but no idea of how well the algorithm might perform on new data. This was done for simplicity, but ideally, you could separate your data into train and test datasets for training and evaluation of your model.\n",
    "\n",
    "You can evaluate your model on your training dataset in the same way you invoked the model in training. This will generate predictions for each input, but then you still need to compute a score for the evaluation. This score can be the same as your loss function or something different. Because you are doing binary classification, you can use accuracy as your evaluation score by converting the output (a floating point in the range of 0 to 1) to an integer (0 or 1) and compare to the label we know.\n",
    "\n",
    "This is done as follows:"
   ]
  },
  {
   "cell_type": "code",
   "execution_count": null,
   "id": "f43be838-a99d-4709-8313-18bddd2b3328",
   "metadata": {},
   "outputs": [],
   "source": [
    "# compute accuracy (no_grad is optional)\n",
    "with torch.no_grad():\n",
    "    y_pred = model(X)\n",
    "\n",
    "accuracy = (y_pred.round() == y).float().mean()\n",
    "print(f\"Accuracy {accuracy}\")"
   ]
  },
  {
   "cell_type": "markdown",
   "id": "f9db6cb9-827a-4985-a172-973694caf887",
   "metadata": {},
   "source": [
    "The <code>round()</code> function rounds off the floating point to the nearest integer. The == operator compares and returns a Boolean tensor, which can be converted to floating point numbers 1.0 and 0.0. The <code>mean()</code> function will provide you the count of the number of 1’s (i.e., prediction matches the label) divided by the total number of samples. The <code>no_grad()</code> context is optional but suggested, so you relieve <code>y_pred</code> from remembering how it comes up with the number since you are not going to do differentiation on it.\n",
    "\n",
    "Putting everything together, the following is the complete code."
   ]
  },
  {
   "cell_type": "code",
   "execution_count": 2,
   "id": "719b3b72-bbd2-4082-8f79-496bcf340c88",
   "metadata": {},
   "outputs": [
    {
     "name": "stdout",
     "output_type": "stream",
     "text": [
      "Sequential(\n",
      "  (0): Linear(in_features=8, out_features=12, bias=True)\n",
      "  (1): ReLU()\n",
      "  (2): Linear(in_features=12, out_features=8, bias=True)\n",
      "  (3): ReLU()\n",
      "  (4): Linear(in_features=8, out_features=1, bias=True)\n",
      "  (5): Sigmoid()\n",
      ")\n",
      "Finished epoch 0, latest loss 0.7424261569976807\n",
      "Finished epoch 1, latest loss 0.6839213371276855\n",
      "Finished epoch 2, latest loss 0.6391119360923767\n",
      "Finished epoch 3, latest loss 0.6130827069282532\n",
      "Finished epoch 4, latest loss 0.5913122892379761\n",
      "Finished epoch 5, latest loss 0.5834402441978455\n",
      "Finished epoch 6, latest loss 0.5706573724746704\n",
      "Finished epoch 7, latest loss 0.5646718740463257\n",
      "Finished epoch 8, latest loss 0.5590394139289856\n",
      "Finished epoch 9, latest loss 0.5570923686027527\n",
      "Finished epoch 10, latest loss 0.5519053339958191\n",
      "Finished epoch 11, latest loss 0.5512738823890686\n",
      "Finished epoch 12, latest loss 0.5467568635940552\n",
      "Finished epoch 13, latest loss 0.5389609336853027\n",
      "Finished epoch 14, latest loss 0.5387847423553467\n",
      "Finished epoch 15, latest loss 0.5370340347290039\n",
      "Finished epoch 16, latest loss 0.5351438522338867\n",
      "Finished epoch 17, latest loss 0.5332284569740295\n",
      "Finished epoch 18, latest loss 0.5302140116691589\n",
      "Finished epoch 19, latest loss 0.5286037921905518\n",
      "Finished epoch 20, latest loss 0.5265822410583496\n",
      "Finished epoch 21, latest loss 0.5245066285133362\n",
      "Finished epoch 22, latest loss 0.5229424834251404\n",
      "Finished epoch 23, latest loss 0.5174288749694824\n",
      "Finished epoch 24, latest loss 0.5140992999076843\n",
      "Finished epoch 25, latest loss 0.5120466947555542\n",
      "Finished epoch 26, latest loss 0.5090681314468384\n",
      "Finished epoch 27, latest loss 0.5019635558128357\n",
      "Finished epoch 28, latest loss 0.5017475485801697\n",
      "Finished epoch 29, latest loss 0.4966855049133301\n",
      "Finished epoch 30, latest loss 0.49496087431907654\n",
      "Finished epoch 31, latest loss 0.5021349787712097\n",
      "Finished epoch 32, latest loss 0.48564812541007996\n",
      "Finished epoch 33, latest loss 0.48204270005226135\n",
      "Finished epoch 34, latest loss 0.481315016746521\n",
      "Finished epoch 35, latest loss 0.4732179045677185\n",
      "Finished epoch 36, latest loss 0.46900445222854614\n",
      "Finished epoch 37, latest loss 0.4714946448802948\n",
      "Finished epoch 38, latest loss 0.46755221486091614\n",
      "Finished epoch 39, latest loss 0.46283096075057983\n",
      "Finished epoch 40, latest loss 0.4607723653316498\n",
      "Finished epoch 41, latest loss 0.4591226577758789\n",
      "Finished epoch 42, latest loss 0.45386502146720886\n",
      "Finished epoch 43, latest loss 0.45423707365989685\n",
      "Finished epoch 44, latest loss 0.4513058364391327\n",
      "Finished epoch 45, latest loss 0.46635329723358154\n",
      "Finished epoch 46, latest loss 0.4580724835395813\n",
      "Finished epoch 47, latest loss 0.4541957378387451\n",
      "Finished epoch 48, latest loss 0.44990575313568115\n",
      "Finished epoch 49, latest loss 0.4488994777202606\n",
      "Finished epoch 50, latest loss 0.4426303505897522\n",
      "Finished epoch 51, latest loss 0.44510334730148315\n",
      "Finished epoch 52, latest loss 0.4384629726409912\n",
      "Finished epoch 53, latest loss 0.4424692690372467\n",
      "Finished epoch 54, latest loss 0.4326379895210266\n",
      "Finished epoch 55, latest loss 0.4478790760040283\n",
      "Finished epoch 56, latest loss 0.43430712819099426\n",
      "Finished epoch 57, latest loss 0.4373071491718292\n",
      "Finished epoch 58, latest loss 0.42549774050712585\n",
      "Finished epoch 59, latest loss 0.4280417561531067\n",
      "Finished epoch 60, latest loss 0.42302918434143066\n",
      "Finished epoch 61, latest loss 0.4297119379043579\n",
      "Finished epoch 62, latest loss 0.4226793050765991\n",
      "Finished epoch 63, latest loss 0.42109423875808716\n",
      "Finished epoch 64, latest loss 0.41768568754196167\n",
      "Finished epoch 65, latest loss 0.42091748118400574\n",
      "Finished epoch 66, latest loss 0.41814377903938293\n",
      "Finished epoch 67, latest loss 0.42111802101135254\n",
      "Finished epoch 68, latest loss 0.41609179973602295\n",
      "Finished epoch 69, latest loss 0.42040330171585083\n",
      "Finished epoch 70, latest loss 0.41351401805877686\n",
      "Finished epoch 71, latest loss 0.4165984094142914\n",
      "Finished epoch 72, latest loss 0.41101354360580444\n",
      "Finished epoch 73, latest loss 0.414122611284256\n",
      "Finished epoch 74, latest loss 0.408825159072876\n",
      "Finished epoch 75, latest loss 0.40384286642074585\n",
      "Finished epoch 76, latest loss 0.403859943151474\n",
      "Finished epoch 77, latest loss 0.40368765592575073\n",
      "Finished epoch 78, latest loss 0.41108477115631104\n",
      "Finished epoch 79, latest loss 0.40907642245292664\n",
      "Finished epoch 80, latest loss 0.40633904933929443\n",
      "Finished epoch 81, latest loss 0.3991568386554718\n",
      "Finished epoch 82, latest loss 0.3984297513961792\n",
      "Finished epoch 83, latest loss 0.4001239836215973\n",
      "Finished epoch 84, latest loss 0.4016476273536682\n",
      "Finished epoch 85, latest loss 0.4014070928096771\n",
      "Finished epoch 86, latest loss 0.40318363904953003\n",
      "Finished epoch 87, latest loss 0.4036093056201935\n",
      "Finished epoch 88, latest loss 0.39756467938423157\n",
      "Finished epoch 89, latest loss 0.39346566796302795\n",
      "Finished epoch 90, latest loss 0.3908247649669647\n",
      "Finished epoch 91, latest loss 0.392545610666275\n",
      "Finished epoch 92, latest loss 0.3912593722343445\n",
      "Finished epoch 93, latest loss 0.389119029045105\n",
      "Finished epoch 94, latest loss 0.38910967111587524\n",
      "Finished epoch 95, latest loss 0.39260515570640564\n",
      "Finished epoch 96, latest loss 0.3873366713523865\n",
      "Finished epoch 97, latest loss 0.38734766840934753\n",
      "Finished epoch 98, latest loss 0.38522571325302124\n",
      "Finished epoch 99, latest loss 0.38464224338531494\n",
      "Accuracy 0.7721354365348816\n"
     ]
    }
   ],
   "source": [
    "import numpy as np\n",
    "import torch\n",
    "import torch.nn as nn\n",
    "import torch.optim as optim\n",
    "\n",
    "# load the dataset, split into input (X) and output (y) variables\n",
    "dataset = np.loadtxt('pima-indians-diabetes.csv', delimiter=',')\n",
    "X = dataset[:,0:8]\n",
    "y = dataset[:,8]\n",
    "\n",
    "X = torch.tensor(X, dtype=torch.float32)\n",
    "y = torch.tensor(y, dtype=torch.float32).reshape(-1, 1)\n",
    "\n",
    "# define the model\n",
    "model = nn.Sequential(\n",
    "    nn.Linear(8, 12),\n",
    "    nn.ReLU(),\n",
    "    nn.Linear(12, 8),\n",
    "    nn.ReLU(),\n",
    "    nn.Linear(8, 1),\n",
    "    nn.Sigmoid()\n",
    ")\n",
    "print(model)\n",
    "\n",
    "# train the model\n",
    "loss_fn   = nn.BCELoss()  # binary cross entropy\n",
    "optimizer = optim.Adam(model.parameters(), lr=0.001)\n",
    "\n",
    "n_epochs = 100\n",
    "batch_size = 10\n",
    "\n",
    "for epoch in range(n_epochs):\n",
    "    for i in range(0, len(X), batch_size):\n",
    "        Xbatch = X[i:i+batch_size]\n",
    "        y_pred = model(Xbatch)\n",
    "        ybatch = y[i:i+batch_size]\n",
    "        loss = loss_fn(y_pred, ybatch)\n",
    "        optimizer.zero_grad()\n",
    "        loss.backward()\n",
    "        optimizer.step()\n",
    "    print(f'Finished epoch {epoch}, latest loss {loss}')\n",
    "\n",
    "# compute accuracy (no_grad is optional)\n",
    "with torch.no_grad():\n",
    "    y_pred = model(X)\n",
    "accuracy = (y_pred.round() == y).float().mean()\n",
    "print(f\"Accuracy {accuracy}\")"
   ]
  },
  {
   "cell_type": "markdown",
   "id": "0c8142ba-2f57-4070-a525-10202a5bad38",
   "metadata": {},
   "source": [
    "You can copy all the code into your Python file and save it as “<code>pytorch_network.py</code>” in the same directory as your data file “<code>pima-indians-diabetes.csv</code>”. You can then run the Python file as a script from your command line.\n",
    "\n",
    "Running this example, you should see that the training loop progresses on each epoch with the loss with the final accuracy printed last. Ideally, you would like the loss to go to zero and the accuracy to go to 1.0 (e.g., 100%). This is not possible for any but the most trivial machine learning problems. Instead, you will always have some error in your model. The goal is to choose a model configuration and training configuration that achieves the lowest loss and highest accuracy possible for a given dataset.\n",
    "\n",
    "Neural networks are stochastic algorithms, meaning that the same algorithm on the same data can train a different model with different skill each time the code is run. This is a feature, not a bug. The variance in the performance of the model means that to get a reasonable approximation of how well your model is performing, you may need to fit it many times and calculate the average of the accuracy scores. For example, below are the accuracy scores from re-running the example five times:"
   ]
  },
  {
   "cell_type": "code",
   "execution_count": null,
   "id": "8e65bd51-23f1-42a1-a13a-0ad0ebfb0b8a",
   "metadata": {},
   "outputs": [],
   "source": [
    "Accuracy: 0.7604166865348816\n",
    "Accuracy: 0.7838541865348816\n",
    "Accuracy: 0.7669270634651184\n",
    "Accuracy: 0.7721354365348816\n",
    "Accuracy: 0.7669270634651184"
   ]
  },
  {
   "cell_type": "markdown",
   "id": "89e776e2-db19-46ff-8098-b99f2586d272",
   "metadata": {},
   "source": [
    "You can see that all accuracy scores are around 77%, roughly."
   ]
  },
  {
   "cell_type": "markdown",
   "id": "823fff5c-07b2-4604-baff-87b829660041",
   "metadata": {},
   "source": [
    "## Make Predictions"
   ]
  },
  {
   "cell_type": "markdown",
   "id": "4dd3b518-466f-4a84-9cdc-3c4246799f04",
   "metadata": {},
   "source": [
    "You can adapt the above example and use it to generate predictions on the training dataset, pretending it is a new dataset you have not seen before. Making predictions is as easy as calling the model as if it is a function. You are using a sigmoid activation function on the output layer so that the predictions will be a probability in the range between 0 and 1. You can easily convert them into a crisp binary prediction for this classification task by rounding them. For example:"
   ]
  },
  {
   "cell_type": "code",
   "execution_count": null,
   "id": "caa64d83-a505-4987-8e7e-f4ecd1008764",
   "metadata": {},
   "outputs": [],
   "source": [
    "...\n",
    "\n",
    "# make probability predictions with the model\n",
    "predictions = model(X)\n",
    "# round predictions\n",
    "rounded = predictions.round()"
   ]
  },
  {
   "cell_type": "markdown",
   "id": "6ecfa5b1-50e9-458f-acf8-ef29384f5387",
   "metadata": {},
   "source": [
    "Alternately, you can convert the probability into 0 or 1 to predict crisp classes directly; for example:"
   ]
  },
  {
   "cell_type": "code",
   "execution_count": null,
   "id": "b80f552c-7e60-4ded-9d01-747f2d07f657",
   "metadata": {},
   "outputs": [],
   "source": [
    "...\n",
    "# make class predictions with the model\n",
    "predictions = (model(X) > 0.5).int()"
   ]
  },
  {
   "cell_type": "markdown",
   "id": "dca26a7f-eb14-4630-83e5-92a61d8f98a9",
   "metadata": {},
   "source": [
    "The complete example below makes predictions for each example in the dataset, then prints the input data, predicted class, and expected class for the first five examples in the dataset."
   ]
  },
  {
   "cell_type": "code",
   "execution_count": 3,
   "id": "27a21f15-3a7d-4b36-8b95-acd819b76f47",
   "metadata": {},
   "outputs": [
    {
     "name": "stdout",
     "output_type": "stream",
     "text": [
      "PimaClassifier(\n",
      "  (hidden1): Linear(in_features=8, out_features=12, bias=True)\n",
      "  (act1): ReLU()\n",
      "  (hidden2): Linear(in_features=12, out_features=8, bias=True)\n",
      "  (act2): ReLU()\n",
      "  (output): Linear(in_features=8, out_features=1, bias=True)\n",
      "  (act_output): Sigmoid()\n",
      ")\n",
      "Accuracy 0.69921875\n",
      "[6.0, 148.0, 72.0, 35.0, 0.0, 33.599998474121094, 0.6269999742507935, 50.0] => 0 (expected 1)\n",
      "[1.0, 85.0, 66.0, 29.0, 0.0, 26.600000381469727, 0.35100001096725464, 31.0] => 0 (expected 0)\n",
      "[8.0, 183.0, 64.0, 0.0, 0.0, 23.299999237060547, 0.671999990940094, 32.0] => 0 (expected 1)\n",
      "[1.0, 89.0, 66.0, 23.0, 94.0, 28.100000381469727, 0.16699999570846558, 21.0] => 0 (expected 0)\n",
      "[0.0, 137.0, 40.0, 35.0, 168.0, 43.099998474121094, 2.2880001068115234, 33.0] => 1 (expected 1)\n"
     ]
    }
   ],
   "source": [
    "import numpy as np\n",
    "import torch\n",
    "import torch.nn as nn\n",
    "import torch.optim as optim\n",
    "\n",
    "# load the dataset, split into input (X) and output (y) variables\n",
    "dataset = np.loadtxt('pima-indians-diabetes.csv', delimiter=',')\n",
    "X = dataset[:,0:8]\n",
    "y = dataset[:,8]\n",
    "\n",
    "X = torch.tensor(X, dtype=torch.float32)\n",
    "y = torch.tensor(y, dtype=torch.float32).reshape(-1, 1)\n",
    "\n",
    "# define the model\n",
    "class PimaClassifier(nn.Module):\n",
    "    def __init__(self):\n",
    "        super().__init__()\n",
    "        self.hidden1 = nn.Linear(8, 12)\n",
    "        self.act1 = nn.ReLU()\n",
    "        self.hidden2 = nn.Linear(12, 8)\n",
    "        self.act2 = nn.ReLU()\n",
    "        self.output = nn.Linear(8, 1)\n",
    "        self.act_output = nn.Sigmoid()\n",
    "\n",
    "    def forward(self, x):\n",
    "        x = self.act1(self.hidden1(x))\n",
    "        x = self.act2(self.hidden2(x))\n",
    "        x = self.act_output(self.output(x))\n",
    "        return x\n",
    "\n",
    "model = PimaClassifier()\n",
    "print(model)\n",
    "\n",
    "# train the model\n",
    "loss_fn   = nn.BCELoss()  # binary cross entropy\n",
    "optimizer = optim.Adam(model.parameters(), lr=0.001)\n",
    "\n",
    "n_epochs = 100\n",
    "batch_size = 10\n",
    "\n",
    "for epoch in range(n_epochs):\n",
    "    for i in range(0, len(X), batch_size):\n",
    "        Xbatch = X[i:i+batch_size]\n",
    "        y_pred = model(Xbatch)\n",
    "        ybatch = y[i:i+batch_size]\n",
    "        loss = loss_fn(y_pred, ybatch)\n",
    "        optimizer.zero_grad()\n",
    "        loss.backward()\n",
    "        optimizer.step()\n",
    "\n",
    "# compute accuracy\n",
    "y_pred = model(X)\n",
    "accuracy = (y_pred.round() == y).float().mean()\n",
    "print(f\"Accuracy {accuracy}\")\n",
    "\n",
    "# make class predictions with the model\n",
    "predictions = (model(X) > 0.5).int()\n",
    "for i in range(5):\n",
    "    print('%s => %d (expected %d)' % (X[i].tolist(), predictions[i], y[i]))"
   ]
  },
  {
   "cell_type": "markdown",
   "id": "236efc98-3ccf-4bdd-babe-92d4588d70a4",
   "metadata": {},
   "source": [
    "This code uses a different way of building the model but should functionally be the same as before. After the model is trained, predictions are made for all examples in the dataset, and the input rows and predicted class value for the first five examples are printed and compared to the expected class value. You can see that most rows are correctly predicted. In fact, you can expect about 77% of the rows to be correctly predicted based on your estimated performance of the model in the previous section."
   ]
  },
  {
   "cell_type": "code",
   "execution_count": null,
   "id": "13e75d61-9025-439c-9f36-4860c4a50b2b",
   "metadata": {},
   "outputs": [],
   "source": [
    "[6.0, 148.0, 72.0, 35.0, 0.0, 33.599998474121094, 0.6269999742507935, 50.0] => 1 (expected 1)\n",
    "[1.0, 85.0, 66.0, 29.0, 0.0, 26.600000381469727, 0.35100001096725464, 31.0] => 0 (expected 0)\n",
    "[8.0, 183.0, 64.0, 0.0, 0.0, 23.299999237060547, 0.671999990940094, 32.0] => 1 (expected 1)\n",
    "[1.0, 89.0, 66.0, 23.0, 94.0, 28.100000381469727, 0.16699999570846558, 21.0] => 0 (expected 0)\n",
    "[0.0, 137.0, 40.0, 35.0, 168.0, 43.099998474121094, 2.2880001068115234, 33.0] => 1 (expected 1)"
   ]
  },
  {
   "cell_type": "markdown",
   "id": "1044748e-0245-421a-a397-b3da0f73d435",
   "metadata": {},
   "source": [
    "## Summary"
   ]
  },
  {
   "cell_type": "markdown",
   "id": "2836e76a-c5b0-442a-92ed-2acdeb028f0d",
   "metadata": {},
   "source": [
    "In this post, you discovered how to create your first neural network model using PyTorch. Specifically, you learned the key steps in using PyTorch to create a neural network or deep learning model step by step, including:\n",
    "\n",
    "- How to load data\n",
    "- How to define a neural network in PyTorch\n",
    "- How to train a model on data\n",
    "- How to evaluate a model\n",
    "- How to make predictions with the model"
   ]
  }
 ],
 "metadata": {
  "kernelspec": {
   "display_name": "Python [conda env:base] *",
   "language": "python",
   "name": "conda-base-py"
  },
  "language_info": {
   "codemirror_mode": {
    "name": "ipython",
    "version": 3
   },
   "file_extension": ".py",
   "mimetype": "text/x-python",
   "name": "python",
   "nbconvert_exporter": "python",
   "pygments_lexer": "ipython3",
   "version": "3.12.7"
  }
 },
 "nbformat": 4,
 "nbformat_minor": 5
}
